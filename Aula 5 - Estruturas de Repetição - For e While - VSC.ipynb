{
 "cells": [
  {
   "cell_type": "markdown",
   "metadata": {},
   "source": [
    "# Lista de exercícios (desafio) – Estrutura de Repetição\n"
   ]
  },
  {
   "cell_type": "markdown",
   "metadata": {},
   "source": [
    "##### Exercício 01\n",
    "Escreva um programa que imprima todos os números pares de 1\n",
    "a 100. (FOR)"
   ]
  },
  {
   "cell_type": "code",
   "execution_count": null,
   "metadata": {},
   "outputs": [],
   "source": [
    "# Criando intervalo de 1 a 100 \n",
    "numeros = range(1,101)\n",
    "\n",
    "for num in numeros:\n",
    "    if num % 2 == 0:\n",
    "        print(num)"
   ]
  },
  {
   "cell_type": "markdown",
   "metadata": {},
   "source": [
    "##### Exercício 02\n",
    "Crie um programa que conte quantas vezes a letra 'a' aparece em\n",
    "uma frase inserida pelo usuário. (FOR e IF)"
   ]
  },
  {
   "cell_type": "code",
   "execution_count": null,
   "metadata": {},
   "outputs": [],
   "source": [
    "frase = input('Digite algo aqui: ')\n",
    "\n",
    "#Converter todas as letras em minúsculo\n",
    "frase = frase.lower()\n",
    "\n",
    "contador = 0\n",
    "\n",
    "for letra in frase:\n",
    "    if letra == 'a':\n",
    "        contador = contador + 1\n",
    "print(f'A frase contém {contador} letras \"A\".')"
   ]
  },
  {
   "cell_type": "markdown",
   "metadata": {},
   "source": [
    "# LISTA DE EXERCÍCIO 03 – ESTRUTURA DE REPETIÇÃO"
   ]
  },
  {
   "cell_type": "markdown",
   "metadata": {},
   "source": [
    "##### Exercício 14\n",
    "Faça um programa que peça 10 números inteiros, calcule e mostre a\n",
    "quantidade de números pares e a quantidade de números ímpares."
   ]
  },
  {
   "cell_type": "code",
   "execution_count": null,
   "metadata": {},
   "outputs": [],
   "source": [
    "#Lista vazia responsável por armazenar os valores inseridos\n",
    "numeros = []\n",
    "\n",
    "#Variável de controle\n",
    "i = 1\n",
    "\n",
    "while i <= 10:\n",
    "    numero = int(input('Digite o número aqui: '))\n",
    "    #Adicionar os números digitados na lista\n",
    "    numeros.append(numero)\n",
    "    \n",
    "    i += 1\n",
    "#Contadores\n",
    "\n",
    "impar = 0\n",
    "par = 0\n",
    "\n",
    "for num in numeros:\n",
    "    if num % 2 != 0:\n",
    "        impar = impar + 1 #ou impar += 1\n",
    "\n",
    "    else:\n",
    "        par += 1\n",
    "\n",
    "print(f'Neste conjunto de números contém {impar} números ímpares e {par} números pares.')\n"
   ]
  },
  {
   "cell_type": "markdown",
   "metadata": {},
   "source": [
    "##### Exercício 08\n",
    "Faça um programa que leia 5 números e informe a soma e a média dos\n",
    "números."
   ]
  },
  {
   "cell_type": "code",
   "execution_count": null,
   "metadata": {},
   "outputs": [],
   "source": [
    "#Criar uma lista vazia para armazenar os valores\n",
    "lista_numeros = []\n",
    "\n",
    "#Variável de controle de Repetição\n",
    "i = 0\n",
    "\n",
    "#Estrutura de repetição para solicitar 5 valores e inserir na lista \"lista_numeros\"\n",
    "while i < 5: #pode ser i<=4 ou i<5. O intervalo continua sendo de 5 valores\n",
    "\n",
    "    #Solicitar a inserção de novos valores\n",
    "    numero = float(input('Digite um valor: '))\n",
    "\n",
    "    #Adicionar o número inserido na lista criada\n",
    "    lista_numeros.append(numero)\n",
    "\n",
    "    i += 1 # incremento de UMA unidade na variável\n",
    "\n",
    "print(f'Os valores inseridos são: {lista_numeros}.')\n",
    "print(f'A lista contém {i} números.')\n",
    "\n",
    "#Declarar a variável para armazenar a soma dos valores\n",
    "soma = 0\n",
    "\n",
    "for x in lista_numeros:\n",
    "\n",
    "    #somar a variável \"soma\" com o valor da varável \"x\" \n",
    "    soma = soma + x \n",
    "\n",
    "print('A soma dos valores é: ', soma)\n",
    "\n",
    "#Inicializar a variável média\n",
    "media = 0 \n",
    "\n",
    "for y in lista_numeros:\n",
    "    media = soma/i\n",
    "\n",
    "print('A média dos valores é: ', media)"
   ]
  },
  {
   "cell_type": "markdown",
   "metadata": {},
   "source": [
    "##### Exercício 17\n",
    "Faça um programa que calcule o fatorial de um número inteiro fornecido\n",
    "pelo usuário. Ex.: 5!=5.4.3.2.1=120"
   ]
  },
  {
   "cell_type": "code",
   "execution_count": null,
   "metadata": {},
   "outputs": [],
   "source": [
    "print('CÁLCULO DE FATORIAL')\n",
    "\n",
    "#Criando a variável para armazenar o valor\n",
    "i = int(input('Para calculcar o fatorial de um número, insira o valor: '))\n",
    "\n",
    "res = i\n",
    "#Atribuindo o valor de entrada á favirável fatorial\n",
    "fatorial = i\n",
    "\n",
    "#Cálculo do fatorial do número digitado\n",
    "while i >= 1:\n",
    "\n",
    "    #Decréscimo do valor inserido para multiplicar o valor digitado pelo número anterior a ele\n",
    "    i = i - 1\n",
    "    \n",
    "    #Validar que o valor do fator \"i\" não seja igual a \"0\"\n",
    "    if i != 0:\n",
    "        fatorial = fatorial * i\n",
    "print(f' O fatorial de {res} é {fatorial}.')"
   ]
  },
  {
   "cell_type": "markdown",
   "metadata": {},
   "source": [
    "##### Exercício 03\n",
    "Faça um programa que calcule a soma dos números de 1 a 100.\n",
    "(FOR)"
   ]
  },
  {
   "cell_type": "code",
   "execution_count": 1,
   "metadata": {},
   "outputs": [
    {
     "name": "stdout",
     "output_type": "stream",
     "text": [
      "A soma é:  5050\n"
     ]
    }
   ],
   "source": [
    "#Criando uma lista de 1 a 100\n",
    "numero = range(1,101)\n",
    "\n",
    "#Criar uma variáv el acumuladora\n",
    "soma = 0 \n",
    "\n",
    "for num in numero:\n",
    "    soma = soma + num\n",
    "    \n",
    "print('A soma é: ', soma)"
   ]
  },
  {
   "cell_type": "markdown",
   "metadata": {},
   "source": [
    "##### Exercício 04\n",
    "Crie um programa que solicite ao usuário que digite uma senha e\n",
    "continue pedindo até que a senha digitada seja igual a \"12345\". Quando a senha\n",
    "for correta, exiba uma mensagem de boas-vindas. (WHILE)"
   ]
  },
  {
   "cell_type": "code",
   "execution_count": 3,
   "metadata": {},
   "outputs": [
    {
     "name": "stdout",
     "output_type": "stream",
     "text": [
      "Seja Bem-Vindo\n"
     ]
    }
   ],
   "source": [
    "senha = int(input('Digite sua senha: '))\n",
    "\n",
    "while senha != 12345:\n",
    "    senha = int(input('Digite sua senha: '))\n",
    "\n",
    "print(\"Seja Bem-Vindo\")\n"
   ]
  }
 ],
 "metadata": {
  "kernelspec": {
   "display_name": "base",
   "language": "python",
   "name": "python3"
  },
  "language_info": {
   "codemirror_mode": {
    "name": "ipython",
    "version": 3
   },
   "file_extension": ".py",
   "mimetype": "text/x-python",
   "name": "python",
   "nbconvert_exporter": "python",
   "pygments_lexer": "ipython3",
   "version": "3.11.3"
  },
  "orig_nbformat": 4
 },
 "nbformat": 4,
 "nbformat_minor": 2
}
