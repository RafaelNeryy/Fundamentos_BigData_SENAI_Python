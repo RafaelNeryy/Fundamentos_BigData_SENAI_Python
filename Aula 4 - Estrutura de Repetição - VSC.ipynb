{
 "cells": [
  {
   "cell_type": "markdown",
   "metadata": {},
   "source": [
    "# Estrutura de Repetição -> FOR"
   ]
  },
  {
   "cell_type": "code",
   "execution_count": 2,
   "metadata": {},
   "outputs": [
    {
     "name": "stdout",
     "output_type": "stream",
     "text": [
      "Abacaxi\n",
      "Laranja\n",
      "Goiaba\n",
      "Banana\n"
     ]
    }
   ],
   "source": [
    "frutas = ['Abacaxi','Laranja','Goiaba','Banana']\n",
    "\n",
    "for Fruta in frutas:\n",
    "    print(Fruta)"
   ]
  },
  {
   "cell_type": "markdown",
   "metadata": {},
   "source": [
    "### Lista de Exercício 03 – Estrutura de Repetição"
   ]
  },
  {
   "cell_type": "markdown",
   "metadata": {},
   "source": [
    "##### Exercício 01\n",
    "Faça um programa que peça uma nota, entre zero e dez. Mostre uma\n",
    "mensagem caso o valor seja inválido e continue pedindo até que o usuário informe um\n",
    "valor válido."
   ]
  },
  {
   "cell_type": "code",
   "execution_count": 4,
   "metadata": {},
   "outputs": [
    {
     "name": "stdout",
     "output_type": "stream",
     "text": [
      "0\n",
      "1\n",
      "2\n",
      "3\n",
      "4\n",
      "5\n",
      "6\n",
      "7\n",
      "8\n",
      "9\n",
      "10\n"
     ]
    }
   ],
   "source": [
    "# Criando uma lista com valores de 0 a 10\n",
    "\n",
    "lista = [0,1,2,3,4,5,6,7,8,9,10]\n",
    "\n",
    "for i in lista:\n",
    "    print(i)"
   ]
  },
  {
   "cell_type": "markdown",
   "metadata": {},
   "source": [
    "##### Exercício 12\n",
    "Desenvolva um gerador de tabuada, capaz de gerar a tabuada de\n",
    "qualquer número inteiro entre 1 a 10. O usuário deve informar de qual numero ele deseja\n",
    "ver a tabuada. A saída deve ser conforme o exemplo abaixo:"
   ]
  },
  {
   "cell_type": "code",
   "execution_count": 8,
   "metadata": {},
   "outputs": [
    {
     "name": "stdout",
     "output_type": "stream",
     "text": [
      "2\n",
      "4\n",
      "6\n",
      "8\n",
      "10\n",
      "12\n",
      "14\n",
      "16\n",
      "18\n",
      "20\n"
     ]
    }
   ],
   "source": [
    "lista = [1,2,3,4,5,6,7,8,9,10]\n",
    "\n",
    "for tabuada in lista:\n",
    "    print(tabuada*2)"
   ]
  },
  {
   "cell_type": "markdown",
   "metadata": {},
   "source": [
    "##### Exercício 12 - Outra possiblidade\n",
    "Desenvolva um gerador de tabuada, capaz de gerar a tabuada de\n",
    "qualquer número inteiro entre 1 a 10. O usuário deve informar de qual numero ele deseja\n",
    "ver a tabuada. A saída deve ser conforme o exemplo abaixo:"
   ]
  },
  {
   "cell_type": "code",
   "execution_count": 24,
   "metadata": {},
   "outputs": [
    {
     "name": "stdout",
     "output_type": "stream",
     "text": [
      "Tabuada do Número 9\n",
      "- 9 x 1 = 9\n",
      "- 9 x 2 = 18\n",
      "- 9 x 3 = 27\n",
      "- 9 x 4 = 36\n",
      "- 9 x 5 = 45\n",
      "- 9 x 6 = 54\n",
      "- 9 x 7 = 63\n",
      "- 9 x 8 = 72\n",
      "- 9 x 9 = 81\n",
      "- 9 x 10 = 90\n"
     ]
    }
   ],
   "source": [
    "multiplicadores = [1,2,3,4,5,6,7,8,9,10]\n",
    "\n",
    "i = int(input('Digite o número: '))\n",
    "\n",
    "print((f'Tabuada do Número {i}'))\n",
    "\n",
    "for num in multiplicadores:\n",
    "    print(f'- {i} x {num} = {num * i}')\n"
   ]
  },
  {
   "cell_type": "markdown",
   "metadata": {},
   "source": [
    "##### Exercício 06\n",
    "Faça um programa que imprima na tela os números de 1 a 20, um abaixo\n",
    "do outro. Depois modifique o programa para que ele mostre os números um ao lado do\n",
    "outro."
   ]
  },
  {
   "cell_type": "code",
   "execution_count": 28,
   "metadata": {},
   "outputs": [
    {
     "name": "stdout",
     "output_type": "stream",
     "text": [
      "1\n",
      "2\n",
      "3\n",
      "4\n",
      "5\n",
      "6\n",
      "7\n",
      "8\n",
      "9\n",
      "10\n",
      "11\n",
      "12\n",
      "13\n",
      "14\n",
      "15\n",
      "16\n",
      "17\n",
      "18\n",
      "19\n",
      "20\n"
     ]
    }
   ],
   "source": [
    "intervalo = range(1,21)\n",
    "\n",
    "for num in intervalo:\n",
    "    print(num)"
   ]
  },
  {
   "cell_type": "code",
   "execution_count": 33,
   "metadata": {},
   "outputs": [
    {
     "name": "stdout",
     "output_type": "stream",
     "text": [
      "[1, 2, 3, 4, 5, 6, 7, 8, 9, 10, 11, 12, 13, 14, 15, 16, 17, 18, 19, 20]\n"
     ]
    }
   ],
   "source": [
    "intervalo = range(1,21)\n",
    "\n",
    "# Exibir valores na horizontal\n",
    "\n",
    "lista = [] # Lista vazia\n",
    "\n",
    "for num in intervalo:\n",
    "    lista.append(num)\n",
    "print(lista) \n"
   ]
  },
  {
   "cell_type": "markdown",
   "metadata": {},
   "source": [
    "##### Exercício 09\n",
    "Faça um programa que imprima na tela apenas os números ímpares\n",
    "entre 1 e 50."
   ]
  },
  {
   "cell_type": "code",
   "execution_count": 72,
   "metadata": {},
   "outputs": [
    {
     "name": "stdout",
     "output_type": "stream",
     "text": [
      "1\n",
      "3\n",
      "5\n",
      "7\n",
      "9\n",
      "11\n",
      "13\n",
      "15\n",
      "17\n",
      "19\n",
      "21\n",
      "23\n",
      "25\n",
      "27\n",
      "29\n",
      "31\n",
      "33\n",
      "35\n",
      "37\n",
      "39\n",
      "41\n",
      "43\n",
      "45\n",
      "47\n",
      "49\n"
     ]
    }
   ],
   "source": [
    "numeros = range(1,51)\n",
    "\n",
    "\n",
    "for num in numeros:\n",
    "    if num % 2 != 0:\n",
    "        print(num)"
   ]
  },
  {
   "cell_type": "markdown",
   "metadata": {},
   "source": [
    "##### Exercício 10\n",
    "Faça um programa que receba dois números inteiros e gere os números\n",
    "inteiros que estão no intervalo compreendido por eles."
   ]
  },
  {
   "cell_type": "code",
   "execution_count": 98,
   "metadata": {},
   "outputs": [
    {
     "name": "stdout",
     "output_type": "stream",
     "text": [
      "1º Valor: 30\n",
      "2º Valor: 10\n",
      "Intervalo entre 10 e 30 = 10\n",
      "Intervalo entre 10 e 30 = 11\n",
      "Intervalo entre 10 e 30 = 12\n",
      "Intervalo entre 10 e 30 = 13\n",
      "Intervalo entre 10 e 30 = 14\n",
      "Intervalo entre 10 e 30 = 15\n",
      "Intervalo entre 10 e 30 = 16\n",
      "Intervalo entre 10 e 30 = 17\n",
      "Intervalo entre 10 e 30 = 18\n",
      "Intervalo entre 10 e 30 = 19\n",
      "Intervalo entre 10 e 30 = 20\n",
      "Intervalo entre 10 e 30 = 21\n",
      "Intervalo entre 10 e 30 = 22\n",
      "Intervalo entre 10 e 30 = 23\n",
      "Intervalo entre 10 e 30 = 24\n",
      "Intervalo entre 10 e 30 = 25\n",
      "Intervalo entre 10 e 30 = 26\n",
      "Intervalo entre 10 e 30 = 27\n",
      "Intervalo entre 10 e 30 = 28\n",
      "Intervalo entre 10 e 30 = 29\n",
      "Intervalo entre 10 e 30 = 30\n"
     ]
    }
   ],
   "source": [
    "v1 = int(input('Insira o 1º valor: '))\n",
    "print(f'1º Valor: {v1}')\n",
    "\n",
    "v2 = int(input('Insira o 2º valor: '))\n",
    "print(f'2º Valor: {v2}')\n",
    "\n",
    "if v1 > v2:\n",
    "    v1, v2 = v2, v1\n",
    "\n",
    "intervalo = range(v1,v2+1)\n",
    "\n",
    "for num in intervalo:\n",
    "    print(f'Intervalo entre {v1} e {v2} = {num}')"
   ]
  },
  {
   "cell_type": "markdown",
   "metadata": {},
   "source": [
    "##### Exercício 07\n",
    "Faça um programa que leia 5 números e informe o maior número."
   ]
  },
  {
   "cell_type": "code",
   "execution_count": 94,
   "metadata": {},
   "outputs": [
    {
     "name": "stdout",
     "output_type": "stream",
     "text": [
      "1º Valor: 5\n",
      "2º Valor: 8\n",
      "3º Valor: 9\n",
      "4º Valor: 3\n",
      "5º Valor: 3\n"
     ]
    }
   ],
   "source": [
    "p1 = int(input('Insira o 1º valor: '))\n",
    "print(f'1º Valor: {p1}')\n",
    "\n",
    "p2 = int(input('Insira o 2º valor: '))\n",
    "print(f'2º Valor: {p2}')\n",
    "\n",
    "p3 = int(input('Insira o 3º valor: '))\n",
    "print(f'3º Valor: {p3}')\n",
    "\n",
    "p4 = int(input('Insira o 4º valor: '))\n",
    "print(f'4º Valor: {p4}')\n",
    "\n",
    "p5 = int(input('Insira o 5º valor: '))\n",
    "print(f'5º Valor: {p5}')\n",
    "\n",
    "if p1 > p2 and p1 > p3 and p1 > p4 and p1 < p5"
   ]
  }
 ],
 "metadata": {
  "kernelspec": {
   "display_name": "base",
   "language": "python",
   "name": "python3"
  },
  "language_info": {
   "codemirror_mode": {
    "name": "ipython",
    "version": 3
   },
   "file_extension": ".py",
   "mimetype": "text/x-python",
   "name": "python",
   "nbconvert_exporter": "python",
   "pygments_lexer": "ipython3",
   "version": "3.11.3"
  },
  "orig_nbformat": 4
 },
 "nbformat": 4,
 "nbformat_minor": 2
}
