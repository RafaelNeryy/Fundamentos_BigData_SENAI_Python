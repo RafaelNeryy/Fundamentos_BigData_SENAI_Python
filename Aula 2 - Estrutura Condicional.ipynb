{
 "cells": [
  {
   "cell_type": "markdown",
   "id": "eee3b0aa",
   "metadata": {},
   "source": [
    "### Exercício 01\n",
    "Crie uma variável chamada \"idade\" e atribua um valor inteiro a ela.\n",
    "Verifique se a idade é maior ou igual a 18 e imprima \"Maior de idade\" ou \"Menor de\n",
    "idade\" de acordo com a condição."
   ]
  },
  {
   "cell_type": "code",
   "execution_count": null,
   "id": "331802b2",
   "metadata": {},
   "outputs": [],
   "source": [
    "idade = 25\n",
    "\n",
    "if idade >= 18:\n",
    "    print('Maior de Idade')\n",
    "else:\n",
    "    print('Menor de Idade')"
   ]
  },
  {
   "cell_type": "markdown",
   "id": "f317d44f",
   "metadata": {},
   "source": [
    "### Exercício 02\n",
    "\n",
    "Crie uma variável chamada \"número\" e atribua um valor inteiro a ela.\n",
    "Verifique se o número é positivo, negativo ou zero e imprima a mensagem\n",
    "correspondente."
   ]
  },
  {
   "cell_type": "code",
   "execution_count": null,
   "id": "9df4cc43",
   "metadata": {},
   "outputs": [],
   "source": [
    "número = 0\n",
    "\n",
    "if número > 0:\n",
    "    print('Número Positivo')\n",
    "    \n",
    "elif número < 0:\n",
    "    print('Número Negativo')\n",
    "    \n",
    "else:\n",
    "    print('Número Zero')\n",
    "    "
   ]
  },
  {
   "cell_type": "markdown",
   "id": "fbd09343",
   "metadata": {},
   "source": [
    "### Exercício 03\n",
    "Crie duas variáveis, \"nota1\" e \"nota2\", e atribua valores numéricos a elas.\n",
    "Verifique se a média das notas é maior ou igual a 7 e imprima \"Aprovado\" ou\n",
    "\"Reprovado\" de acordo com a condição."
   ]
  },
  {
   "cell_type": "code",
   "execution_count": null,
   "id": "0f9192d0",
   "metadata": {},
   "outputs": [],
   "source": [
    "n1 = input('Digite a Nota 1:')\n",
    "n2 = input('Digite a Nota 2:')\n",
    "\n",
    "n1 = float(n1)\n",
    "n2 = float(n2)\n",
    "\n",
    "média = (n1+n2)/2\n",
    "\n",
    "if média >= 7:\n",
    "    print('Aprovado')\n",
    "\n",
    "else:\n",
    "    print('Reprovado')\n",
    "    "
   ]
  },
  {
   "cell_type": "markdown",
   "id": "8ab5d1ba",
   "metadata": {},
   "source": [
    "### Exercício 04\n",
    "Crie uma variável chamada \"idade\" e atribua um valor inteiro a ela.\n",
    "Verifique se a idade está dentro do intervalo de 18 a 30 (inclusive) e imprima a\n",
    "mensagem \"Idade válida\" ou \"Idade inválida\" de acordo com a condição."
   ]
  },
  {
   "cell_type": "code",
   "execution_count": null,
   "id": "96764f23",
   "metadata": {},
   "outputs": [],
   "source": [
    "idade = input('Digite sua Idade:')\n",
    "\n",
    "idade = int(idade)\n",
    "\n",
    "if idade >= 18 and idade <= 30:\n",
    "    print('Idade Válida')\n",
    "\n",
    "else:\n",
    "    print('Idade Inválida')\n",
    "    "
   ]
  },
  {
   "cell_type": "markdown",
   "id": "13325303",
   "metadata": {},
   "source": [
    "### Exercício 05\n",
    "Crie uma variável chamada \"numero\" e atribua um valor inteiro a ela.\n",
    "Verifique se o número é par ou ímpar e imprima a mensagem correspondente."
   ]
  },
  {
   "cell_type": "code",
   "execution_count": null,
   "id": "8f5d43b1",
   "metadata": {},
   "outputs": [],
   "source": [
    "número = input('Insira número:')\n",
    "\n",
    "número = int(número)\n",
    "\n",
    "if número%2==0:\n",
    "    print('Par')\n",
    "\n",
    "else:\n",
    "    print('Ímpar')\n",
    "    "
   ]
  },
  {
   "cell_type": "markdown",
   "id": "c3a18efb",
   "metadata": {},
   "source": [
    "### Exercício 06\n",
    "Crie uma variável chamada \"horario\" e atribua um valor inteiro\n",
    "representando a hora do dia (em formato 24 horas). Verifique se o horário está dentro\n",
    "do período da manhã (das 6h às 12h), da tarde (das 12h às 18h) ou da noite (das 18h\n",
    "às 23h) e imprima a mensagem correspondente."
   ]
  },
  {
   "cell_type": "code",
   "execution_count": null,
   "id": "3c29fba9",
   "metadata": {},
   "outputs": [],
   "source": [
    "horário = input('Que horas são: ')\n",
    "\n",
    "horário = int(horário)\n",
    "\n",
    "if horário >=6 and horário <12:\n",
    "    print('Manhã')\n",
    "    \n",
    "elif horário >=12 and horário <18:\n",
    "    print('Tarde')\n",
    "    \n",
    "elif horário >= 18 and horário <=24:\n",
    "    print('Noite')\n",
    "    \n",
    "elif horário > 0 and horário < 6:\n",
    "    print('Chegou cedo hein...')\n",
    "    "
   ]
  },
  {
   "cell_type": "markdown",
   "id": "5104eb21",
   "metadata": {},
   "source": [
    "### Exercício 07\n",
    "Crie uma variável chamada \"peso\" e atribua um valor numérico a ela.\n",
    "Verifique se o peso está dentro do intervalo de 50 a 100 (inclusive) e imprima a\n",
    "mensagem \"Peso válido\" ou \"Peso inválido\" de acordo com a condição."
   ]
  },
  {
   "cell_type": "code",
   "execution_count": null,
   "id": "f6d589c0",
   "metadata": {},
   "outputs": [],
   "source": [
    "peso = input(\"Insira seu peso aqui:\")\n",
    "\n",
    "peso = int(peso)\n",
    "\n",
    "if peso >= 50 and peso <= 100:\n",
    "    print('Peso Válido')\n",
    "\n",
    "else:\n",
    "    print('Peso Inválido')\n",
    "    "
   ]
  },
  {
   "cell_type": "markdown",
   "id": "b8ffa3bf",
   "metadata": {},
   "source": [
    "### Exercício 08\n",
    "Crie uma variável chamada \"numero\" e atribua um valor inteiro a ela.\n",
    "Verifique se o número é múltiplo de 3 e de 5 ao mesmo tempo e imprima a mensagem\n",
    "correspondente."
   ]
  },
  {
   "cell_type": "code",
   "execution_count": null,
   "id": "f33042a0",
   "metadata": {},
   "outputs": [],
   "source": [
    "número = 15 \n",
    "\n",
    "if número%3==0 and número%5==0:\n",
    "    print(\"Este número É multiplo de 3 e 5\")\n",
    "    \n",
    "else:\n",
    "    print('Este número NÃO É multiplo de 3 e 5')"
   ]
  },
  {
   "cell_type": "markdown",
   "id": "eb321aca",
   "metadata": {},
   "source": [
    "### Exercício 09\n",
    "Crie uma variável chamada \"ano\" e atribua um valor inteiro\n",
    "representando um ano. Verifique se o ano é bissexto (divisível por 4, mas não por 100,\n",
    "exceto se for divisível por 400) e imprima a mensagem correspondente."
   ]
  },
  {
   "cell_type": "code",
   "execution_count": null,
   "id": "0a2140e2",
   "metadata": {},
   "outputs": [],
   "source": [
    "ano = \n",
    "\n",
    "if ano%4==0 and ano%100!=0 and ano%400==0:\n",
    "    print(\"Ano Bissexto\")\n",
    "    \n",
    "else:\n",
    "    print('Ano Comum')\n",
    "    "
   ]
  },
  {
   "cell_type": "markdown",
   "id": "67794ac5",
   "metadata": {},
   "source": [
    "### Exercício 10\n",
    "Crie uma variável chamada \"salario\" e atribua um valor numérico a ela.\n",
    "Verifique se o salário é maior do que 1000 e menor do que 2000 ao mesmo tempo e\n",
    "imprima a mensagem correspondente."
   ]
  },
  {
   "cell_type": "code",
   "execution_count": null,
   "id": "dc928717",
   "metadata": {},
   "outputs": [],
   "source": [
    "salario = 1001\n",
    "\n",
    "if salario >= 1000 and salario <= 2000:\n",
    "    print('Salario dentro da média')\n",
    "    \n",
    "else:\n",
    "    print('Fora da média')\n",
    "    "
   ]
  },
  {
   "cell_type": "markdown",
   "id": "e03989cc",
   "metadata": {},
   "source": [
    "### Exercício 11\n",
    "Faça um Programa que peça dois números e imprima o maior deles."
   ]
  },
  {
   "cell_type": "code",
   "execution_count": null,
   "id": "f72c059b",
   "metadata": {},
   "outputs": [],
   "source": [
    "nu1 = input('Insira o primeiro número: ')\n",
    "nu2 = input('Insira o segundo número: ')\n",
    "\n",
    "nu1 = int(nu1)\n",
    "nu2 = int(nu2)\n",
    "\n",
    "if nu1 > nu2:\n",
    "    print(f'O maior valor é {nu1} e o menor é {nu2}.')\n",
    "    \n",
    "else:\n",
    "    print(f'O maior valor é {nu2} e o menor é {nu1}.')\n",
    "       "
   ]
  },
  {
   "cell_type": "markdown",
   "id": "ef64b5f0",
   "metadata": {},
   "source": [
    "### Exercício 12\n",
    "Faça um Programa que peça um valor e mostre na tela se o valor é\n",
    "positivo ou negativo."
   ]
  },
  {
   "cell_type": "code",
   "execution_count": null,
   "id": "30b797f4",
   "metadata": {},
   "outputs": [],
   "source": []
  },
  {
   "cell_type": "markdown",
   "id": "6637e6d0",
   "metadata": {},
   "source": [
    "### Exercício 13\n",
    "Faça um Programa que verifique se uma letra digitada é \"F\" ou \"M\".\n",
    "Conforme a letra escrever: F - Feminino, M - Masculino, Sexo Inválido."
   ]
  },
  {
   "cell_type": "code",
   "execution_count": null,
   "id": "e9f4735a",
   "metadata": {},
   "outputs": [],
   "source": []
  },
  {
   "cell_type": "markdown",
   "id": "2bd0d1a5",
   "metadata": {},
   "source": [
    "### Exercício 14\n",
    "Faça um Programa que verifique se uma letra digitada é vogal ou\n",
    "consoante."
   ]
  },
  {
   "cell_type": "code",
   "execution_count": null,
   "id": "2878f844",
   "metadata": {},
   "outputs": [],
   "source": []
  },
  {
   "cell_type": "markdown",
   "id": "77919be6",
   "metadata": {},
   "source": [
    "### Exercício 15\n",
    "Faça um programa para a leitura de duas notas parciais de um aluno. O\n",
    "programa deve calcular a média alcançada por aluno e apresentar:\n",
    "\n",
    "• A mensagem \"Aprovado\", se a média alcançada for maior ou igual a sete;\n",
    "\n",
    "• A mensagem \"Reprovado\", se a média for menor do que sete;\n",
    "\n",
    "• A mensagem \"Aprovado com Distinção\", se a média for igual a dez.\n"
   ]
  },
  {
   "cell_type": "code",
   "execution_count": null,
   "id": "3f5b4764",
   "metadata": {},
   "outputs": [],
   "source": []
  },
  {
   "cell_type": "markdown",
   "id": "ded0509b",
   "metadata": {},
   "source": [
    "### Exercício 16\n",
    "Faça um Programa que leia três números e mostre o maior deles."
   ]
  },
  {
   "cell_type": "code",
   "execution_count": 3,
   "id": "7660212f",
   "metadata": {},
   "outputs": [
    {
     "name": "stdout",
     "output_type": "stream",
     "text": [
      "Insira o primeiro número: 6\n",
      "Insira o segundo número: 5\n",
      "Insira o terceiro número: 4\n",
      "O número maior é 6.\n"
     ]
    }
   ],
   "source": [
    "num1 = input('Insira o primeiro número: ')\n",
    "num2 = input('Insira o segundo número: ')\n",
    "num3 = input('Insira o terceiro número: ')\n",
    "\n",
    "num1 = int(num1)\n",
    "num2 = int(num2)\n",
    "num3 = int(num3)\n",
    "\n",
    "if num1 > num2 and num1 > num3:\n",
    "    print(f'O número maior é {num1}.')\n",
    "    \n",
    "elif num2 > num1 and num2 > num3:\n",
    "    print(f'O número maior é {num2}.')\n",
    "    \n",
    "else:\n",
    "    print(f'O número maior é {num3}.')"
   ]
  },
  {
   "cell_type": "markdown",
   "id": "5fb2d0e6",
   "metadata": {},
   "source": []
  }
 ],
 "metadata": {
  "kernelspec": {
   "display_name": "Python 3 (ipykernel)",
   "language": "python",
   "name": "python3"
  },
  "language_info": {
   "codemirror_mode": {
    "name": "ipython",
    "version": 3
   },
   "file_extension": ".py",
   "mimetype": "text/x-python",
   "name": "python",
   "nbconvert_exporter": "python",
   "pygments_lexer": "ipython3",
   "version": "3.11.3"
  }
 },
 "nbformat": 4,
 "nbformat_minor": 5
}
