{
 "cells": [
  {
   "cell_type": "markdown",
   "metadata": {},
   "source": [
    "# Trabalhando com Listas"
   ]
  },
  {
   "cell_type": "code",
   "execution_count": 3,
   "metadata": {},
   "outputs": [],
   "source": [
    "# Criando Lista\n",
    "\n",
    "alunos = ['Amanda', 'Ana', 'Aurineide', 'Perclides']\n",
    "notas = [10,20,30,40]"
   ]
  },
  {
   "cell_type": "code",
   "execution_count": 4,
   "metadata": {},
   "outputs": [
    {
     "data": {
      "text/plain": [
       "'Aurineide'"
      ]
     },
     "execution_count": 4,
     "metadata": {},
     "output_type": "execute_result"
    }
   ],
   "source": [
    "# Retornar os elementos das listas\n",
    "\n",
    "alunos[2]"
   ]
  },
  {
   "cell_type": "markdown",
   "metadata": {},
   "source": [
    "## Exercícios\n",
    "\n",
    "##### Exercício 01\n",
    "Crie uma lista com nomes de 4 times de futebol.\n",
    "\n",
    "a) Palmeiras\n",
    "\n",
    "b) São Paulo\n",
    "\n",
    "c) Santos\n",
    "\n",
    "d) Água Santa\n",
    "\n",
    "e) Acesse o time que está na 3º posição."
   ]
  },
  {
   "cell_type": "code",
   "execution_count": 11,
   "metadata": {},
   "outputs": [
    {
     "name": "stdout",
     "output_type": "stream",
     "text": [
      "O time que está na 3º posição é: Coritiba\n",
      "O time que está na 4º posição é: Santos\n",
      "O time que está na 1º posição é: Palmeiras\n"
     ]
    }
   ],
   "source": [
    "times = ['Palmeiras', 'São Paulo', 'Coritiba','Santos']\n",
    "\n",
    "# Acessar o time na 3º posição\n",
    "print('O time que está na 3º posição é:', times[2])\n",
    "\n",
    "# Acessar o time na 4º posição\n",
    "print('O time que está na 4º posição é:', times[3])\n",
    "\n",
    "# Acessar o time na 1º posição\n",
    "print('O time que está na 1º posição é:', times[0])\n"
   ]
  },
  {
   "cell_type": "markdown",
   "metadata": {},
   "source": [
    "##### Exercício 01\n",
    "f) Crie uma lista com duas listas de 3 times de futebol, cada uma de uma\n",
    "divisão diferente."
   ]
  },
  {
   "cell_type": "code",
   "execution_count": 21,
   "metadata": {},
   "outputs": [
    {
     "name": "stdout",
     "output_type": "stream",
     "text": [
      "Os elementos da lista são:  [['Palmeiras', 'São Paulo', 'Corinthians', 'Coritiba'], ['Santos', 'Grêmio', 'Chapecoense', 'Bahia']]\n",
      "Primeira lista:  ['Palmeiras', 'São Paulo', 'Corinthians', 'Coritiba']\n",
      "Segunda lista:  ['Santos', 'Grêmio', 'Chapecoense', 'Bahia']\n",
      "Terceiro elemento da 1º lista:  Corinthians\n"
     ]
    }
   ],
   "source": [
    "# Criando Listas em Listas\n",
    "\n",
    "campeonato = [['Palmeiras','São Paulo','Corinthians','Coritiba'],\n",
    "              ['Santos','Grêmio','Chapecoense', 'Bahia']\n",
    "              ]\n",
    "\n",
    "# Acessar os elementos\n",
    "campeonato[1][2]\n",
    "\n",
    "# Retornar todos os elementos da lista\n",
    "print('Os elementos da lista são: ', campeonato)\n",
    "\n",
    "# Retornar a 1º lista\n",
    "print('Primeira lista: ', campeonato[0])\n",
    "\n",
    "# Retornar a 2º lista\n",
    "print('Segunda lista: ', campeonato[1])\n",
    "\n",
    "# Retornar o terceiro elemento da lista\n",
    "print('Terceiro elemento da 1º lista: ', campeonato[0][2])\n"
   ]
  }
 ],
 "metadata": {
  "kernelspec": {
   "display_name": "base",
   "language": "python",
   "name": "python3"
  },
  "language_info": {
   "codemirror_mode": {
    "name": "ipython",
    "version": 3
   },
   "file_extension": ".py",
   "mimetype": "text/x-python",
   "name": "python",
   "nbconvert_exporter": "python",
   "pygments_lexer": "ipython3",
   "version": "3.11.3"
  },
  "orig_nbformat": 4
 },
 "nbformat": 4,
 "nbformat_minor": 2
}
