{
 "cells": [
  {
   "cell_type": "markdown",
   "metadata": {},
   "source": [
    "### Exercício 24\n",
    " Uma empresa tem um conjunto de dados sobre a dimensão de um\n",
    "determinado produto feito com matéria-prima de três fornecedores. Você foi designado\n",
    "a desenvolver uma análise para conseguir analisar quais desses fornecedores tem a\n",
    "matéria prima que não garante o dimensional final deste produto, a media máxima é de\n",
    "120,15 mm e a dimensão mínima é de 119,9 mm. Crie um histograma e um boxplot para\n",
    "analisar as medidas de cada fornecedor e um boxplot para comparar os três\n",
    "fornecedores. Utilize o arquivo fornecedores.xlsx"
   ]
  },
  {
   "cell_type": "code",
   "execution_count": 1,
   "metadata": {},
   "outputs": [
    {
     "data": {
      "text/html": [
       "<div>\n",
       "<style scoped>\n",
       "    .dataframe tbody tr th:only-of-type {\n",
       "        vertical-align: middle;\n",
       "    }\n",
       "\n",
       "    .dataframe tbody tr th {\n",
       "        vertical-align: top;\n",
       "    }\n",
       "\n",
       "    .dataframe thead th {\n",
       "        text-align: right;\n",
       "    }\n",
       "</style>\n",
       "<table border=\"1\" class=\"dataframe\">\n",
       "  <thead>\n",
       "    <tr style=\"text-align: right;\">\n",
       "      <th></th>\n",
       "      <th>Unnamed: 0</th>\n",
       "      <th>Unnamed: 1</th>\n",
       "      <th>Unnamed: 2</th>\n",
       "      <th>Unnamed: 3</th>\n",
       "    </tr>\n",
       "  </thead>\n",
       "  <tbody>\n",
       "    <tr>\n",
       "      <th>0</th>\n",
       "      <td>NaN</td>\n",
       "      <td>Distância entre Centros dos Furos de Fixação</td>\n",
       "      <td>NaN</td>\n",
       "      <td>NaN</td>\n",
       "    </tr>\n",
       "    <tr>\n",
       "      <th>1</th>\n",
       "      <td>NaN</td>\n",
       "      <td>Fornecedor 1</td>\n",
       "      <td>Fornecedor 2</td>\n",
       "      <td>Fornecedor 3</td>\n",
       "    </tr>\n",
       "    <tr>\n",
       "      <th>2</th>\n",
       "      <td>NaN</td>\n",
       "      <td>NaN</td>\n",
       "      <td>NaN</td>\n",
       "      <td>NaN</td>\n",
       "    </tr>\n",
       "    <tr>\n",
       "      <th>3</th>\n",
       "      <td>NaN</td>\n",
       "      <td>120.128365</td>\n",
       "      <td>120.009173</td>\n",
       "      <td>120.047794</td>\n",
       "    </tr>\n",
       "    <tr>\n",
       "      <th>4</th>\n",
       "      <td>NaN</td>\n",
       "      <td>119.99461</td>\n",
       "      <td>120.018834</td>\n",
       "      <td>120.171942</td>\n",
       "    </tr>\n",
       "  </tbody>\n",
       "</table>\n",
       "</div>"
      ],
      "text/plain": [
       "   Unnamed: 0                                    Unnamed: 1    Unnamed: 2  \\\n",
       "0         NaN  Distância entre Centros dos Furos de Fixação           NaN   \n",
       "1         NaN                                  Fornecedor 1  Fornecedor 2   \n",
       "2         NaN                                           NaN           NaN   \n",
       "3         NaN                                    120.128365    120.009173   \n",
       "4         NaN                                     119.99461    120.018834   \n",
       "\n",
       "     Unnamed: 3  \n",
       "0           NaN  \n",
       "1  Fornecedor 3  \n",
       "2           NaN  \n",
       "3    120.047794  \n",
       "4    120.171942  "
      ]
     },
     "execution_count": 1,
     "metadata": {},
     "output_type": "execute_result"
    }
   ],
   "source": [
    "# Importar biblioteca\n",
    "import pandas as pd\n",
    "import seaborn as sns\n",
    "import matplotlib.pyplot as plt\n",
    "\n",
    "# Mapear o caminho e o nome do arquivo\n",
    "path = 'C:\\\\\\\\Users\\\\\\\\Administrador\\\\\\\\Documents\\\\\\\\Modelos Personalizados do Office\\\\\\\\Rafael Nery - Fundamentos de Big Data e Data Analytics com Python\\\\\\\\003 - Arquivos\\\\\\\\'\n",
    "file = 'fornecedores.xlsx'\n",
    "\n",
    "# Abrir o documento e inserir em um dataframe\n",
    "df = pd.read_excel(path + file)\n",
    "\n",
    "# Visualizar caminho\n",
    "df.head()"
   ]
  },
  {
   "cell_type": "markdown",
   "metadata": {},
   "source": [
    "##### Tratamento dos dados - Utilizar o método loc para excluir as três primeiras linhas e a coluna unnamed: 0"
   ]
  },
  {
   "cell_type": "code",
   "execution_count": 2,
   "metadata": {},
   "outputs": [],
   "source": [
    "df = df.iloc[3:,1:]"
   ]
  },
  {
   "cell_type": "code",
   "execution_count": 3,
   "metadata": {},
   "outputs": [
    {
     "data": {
      "text/html": [
       "<div>\n",
       "<style scoped>\n",
       "    .dataframe tbody tr th:only-of-type {\n",
       "        vertical-align: middle;\n",
       "    }\n",
       "\n",
       "    .dataframe tbody tr th {\n",
       "        vertical-align: top;\n",
       "    }\n",
       "\n",
       "    .dataframe thead th {\n",
       "        text-align: right;\n",
       "    }\n",
       "</style>\n",
       "<table border=\"1\" class=\"dataframe\">\n",
       "  <thead>\n",
       "    <tr style=\"text-align: right;\">\n",
       "      <th></th>\n",
       "      <th>f_1</th>\n",
       "      <th>f_2</th>\n",
       "      <th>f_3</th>\n",
       "    </tr>\n",
       "  </thead>\n",
       "  <tbody>\n",
       "    <tr>\n",
       "      <th>3</th>\n",
       "      <td>120.128365</td>\n",
       "      <td>120.009173</td>\n",
       "      <td>120.047794</td>\n",
       "    </tr>\n",
       "    <tr>\n",
       "      <th>4</th>\n",
       "      <td>119.99461</td>\n",
       "      <td>120.018834</td>\n",
       "      <td>120.171942</td>\n",
       "    </tr>\n",
       "    <tr>\n",
       "      <th>5</th>\n",
       "      <td>119.920824</td>\n",
       "      <td>120.038432</td>\n",
       "      <td>120.227087</td>\n",
       "    </tr>\n",
       "    <tr>\n",
       "      <th>6</th>\n",
       "      <td>119.878206</td>\n",
       "      <td>119.994752</td>\n",
       "      <td>119.7133</td>\n",
       "    </tr>\n",
       "    <tr>\n",
       "      <th>7</th>\n",
       "      <td>120.108467</td>\n",
       "      <td>119.944263</td>\n",
       "      <td>120.314467</td>\n",
       "    </tr>\n",
       "  </tbody>\n",
       "</table>\n",
       "</div>"
      ],
      "text/plain": [
       "          f_1         f_2         f_3\n",
       "3  120.128365  120.009173  120.047794\n",
       "4   119.99461  120.018834  120.171942\n",
       "5  119.920824  120.038432  120.227087\n",
       "6  119.878206  119.994752    119.7133\n",
       "7  120.108467  119.944263  120.314467"
      ]
     },
     "execution_count": 3,
     "metadata": {},
     "output_type": "execute_result"
    }
   ],
   "source": [
    "df.columns = [ 'f_1','f_2','f_3']\n",
    "df.head()"
   ]
  },
  {
   "cell_type": "markdown",
   "metadata": {},
   "source": [
    "##### Contrução dos histogramas"
   ]
  },
  {
   "cell_type": "code",
   "execution_count": 4,
   "metadata": {},
   "outputs": [
    {
     "data": {
      "text/plain": [
       "(array([3., 2., 1., 9., 9., 5., 2., 6., 1., 2.]),\n",
       " array([119.76542107, 119.81327997, 119.86113886, 119.90899776,\n",
       "        119.95685665, 120.00471555, 120.05257444, 120.10043334,\n",
       "        120.14829223, 120.19615113, 120.24401002]),\n",
       " <BarContainer object of 10 artists>)"
      ]
     },
     "execution_count": 4,
     "metadata": {},
     "output_type": "execute_result"
    },
    {
     "data": {
      "image/png": "[encoded data removed]",
      "text/plain": [
       "<Figure size 640x480 with 1 Axes>"
      ]
     },
     "metadata": {},
     "output_type": "display_data"
    }
   ],
   "source": [
    "# Fornecedor 1 Matplot\n",
    "\n",
    "plt.hist(df['f_1'])"
   ]
  },
  {
   "cell_type": "code",
   "execution_count": 5,
   "metadata": {},
   "outputs": [
    {
     "data": {
      "text/plain": [
       "<seaborn.axisgrid.FacetGrid at 0x1ae7811c850>"
      ]
     },
     "execution_count": 5,
     "metadata": {},
     "output_type": "execute_result"
    },
    {
     "data": {
      "image/png": "[encoded data removed]",
      "text/plain": [
       "<Figure size 500x500 with 1 Axes>"
      ]
     },
     "metadata": {},
     "output_type": "display_data"
    }
   ],
   "source": [
    "# Fornecedor 1 Seaborn - bins determina o número de classes (colunas)\n",
    "sns.displot(df['f_1'], bins =6)"
   ]
  },
  {
   "cell_type": "code",
   "execution_count": 6,
   "metadata": {},
   "outputs": [
    {
     "data": {
      "text/plain": [
       "<seaborn.axisgrid.FacetGrid at 0x1ae7d4a1050>"
      ]
     },
     "execution_count": 6,
     "metadata": {},
     "output_type": "execute_result"
    },
    {
     "data": {
      "image/png": "[encoded data removed]",
      "text/plain": [
       "<Figure size 500x500 with 1 Axes>"
      ]
     },
     "metadata": {},
     "output_type": "display_data"
    }
   ],
   "source": [
    "# Fornecedor 2\n",
    "sns.displot(df['f_2'], bins =6)"
   ]
  },
  {
   "cell_type": "code",
   "execution_count": 7,
   "metadata": {},
   "outputs": [
    {
     "data": {
      "text/plain": [
       "<seaborn.axisgrid.FacetGrid at 0x1ae000a2b90>"
      ]
     },
     "execution_count": 7,
     "metadata": {},
     "output_type": "execute_result"
    },
    {
     "data": {
      "image/png": "[encoded data removed]",
      "text/plain": [
       "<Figure size 500x500 with 1 Axes>"
      ]
     },
     "metadata": {},
     "output_type": "display_data"
    }
   ],
   "source": [
    "# Fornecedor 3\n",
    "sns.displot(df['f_3'], bins =6)"
   ]
  },
  {
   "cell_type": "markdown",
   "metadata": {},
   "source": [
    "#### Criando Boxplot"
   ]
  },
  {
   "cell_type": "code",
   "execution_count": 8,
   "metadata": {},
   "outputs": [
    {
     "name": "stdout",
     "output_type": "stream",
     "text": [
      "<class 'pandas.core.frame.DataFrame'>\n",
      "RangeIndex: 40 entries, 3 to 42\n",
      "Data columns (total 3 columns):\n",
      " #   Column  Non-Null Count  Dtype  \n",
      "---  ------  --------------  -----  \n",
      " 0   f_1     40 non-null     float64\n",
      " 1   f_2     40 non-null     float64\n",
      " 2   f_3     40 non-null     float64\n",
      "dtypes: float64(3)\n",
      "memory usage: 1.1 KB\n"
     ]
    }
   ],
   "source": [
    "# Converter o campo em numérico\n",
    "df['f_1'] = pd.to_numeric(df['f_1'])\n",
    "df['f_2'] = pd.to_numeric(df['f_2'])\n",
    "df['f_3'] = pd.to_numeric(df['f_3'])\n",
    "df.info()"
   ]
  },
  {
   "cell_type": "code",
   "execution_count": 9,
   "metadata": {},
   "outputs": [
    {
     "data": {
      "text/plain": [
       "<Axes: ylabel='f_1'>"
      ]
     },
     "execution_count": 9,
     "metadata": {},
     "output_type": "execute_result"
    },
    {
     "data": {
      "image/png": "[encoded data removed]",
      "text/plain": [
       "<Figure size 640x480 with 1 Axes>"
      ]
     },
     "metadata": {},
     "output_type": "display_data"
    }
   ],
   "source": [
    "sns.boxplot(y=df['f_1'])"
   ]
  },
  {
   "cell_type": "code",
   "execution_count": 10,
   "metadata": {},
   "outputs": [
    {
     "data": {
      "text/plain": [
       "<Axes: ylabel='f_2'>"
      ]
     },
     "execution_count": 10,
     "metadata": {},
     "output_type": "execute_result"
    },
    {
     "data": {
      "image/png": "[encoded data removed]",
      "text/plain": [
       "<Figure size 640x480 with 1 Axes>"
      ]
     },
     "metadata": {},
     "output_type": "display_data"
    }
   ],
   "source": [
    "sns.boxplot(y=df['f_2'])"
   ]
  },
  {
   "cell_type": "code",
   "execution_count": 11,
   "metadata": {},
   "outputs": [
    {
     "data": {
      "text/plain": [
       "<Axes: ylabel='f_3'>"
      ]
     },
     "execution_count": 11,
     "metadata": {},
     "output_type": "execute_result"
    },
    {
     "data": {
      "image/png": "[encoded data removed]",
      "text/plain": [
       "<Figure size 640x480 with 1 Axes>"
      ]
     },
     "metadata": {},
     "output_type": "display_data"
    }
   ],
   "source": [
    "sns.boxplot(y = df['f_3'])"
   ]
  },
  {
   "cell_type": "code",
   "execution_count": 12,
   "metadata": {},
   "outputs": [
    {
     "data": {
      "text/plain": [
       "<Axes: >"
      ]
     },
     "execution_count": 12,
     "metadata": {},
     "output_type": "execute_result"
    },
    {
     "data": {
      "image/png": "[encoded data removed]",
      "text/plain": [
       "<Figure size 640x480 with 1 Axes>"
      ]
     },
     "metadata": {},
     "output_type": "display_data"
    }
   ],
   "source": [
    "sns.boxplot(df)"
   ]
  },
  {
   "cell_type": "markdown",
   "metadata": {},
   "source": [
    "#### Exercício 25 \n",
    "Histogramas para dados de produção\n",
    "A empresa TODOSUNIDOS recebeu um lote inicial de eixos para montagem de motores\n",
    "destinados a servomecanismos de aeronaves. Foi necessária uma verificação para\n",
    "identificar a capacidade de cada um de três fornecedores, visto que pretendia-se firmar\n",
    "um futuro contrato de parceria. Optou-se por utilizar histograma da distribuição dos\n",
    "diâmetros externos de uma amostra aleatória de 240 eixos, proveniente dos três\n",
    "fornecedores. O limite de especificação dos diâmetros é 5 ± 2 (cm).\n",
    "Arquivo: eixos.xls\n",
    "Planilha: eixos\n",
    "\n",
    "a) Que conclusões você obtém por meio de uma análise preliminar do histograma\n",
    "com todos os eixos?\n",
    "\n",
    "b) Que conclusões você obtém por meio de uma análise preliminar dos histogramas\n",
    "por fornecedor?\n",
    "\n",
    "c) Que outro gráfico auxiliaria você na análise solicitada no item anterior?"
   ]
  },
  {
   "cell_type": "code",
   "execution_count": 13,
   "metadata": {},
   "outputs": [
    {
     "name": "stdout",
     "output_type": "stream",
     "text": [
      "<class 'pandas.core.frame.DataFrame'>\n",
      "RangeIndex: 240 entries, 0 to 239\n",
      "Data columns (total 2 columns):\n",
      " #   Column      Non-Null Count  Dtype  \n",
      "---  ------      --------------  -----  \n",
      " 0   diametro    240 non-null    float64\n",
      " 1   fornecedor  240 non-null    int64  \n",
      "dtypes: float64(1), int64(1)\n",
      "memory usage: 3.9 KB\n"
     ]
    }
   ],
   "source": [
    "import pandas as pd\n",
    "import seaborn as sns\n",
    "import matplotlib.pyplot as plt\n",
    "\n",
    "path = 'C:\\\\Users\\\\Administrador\\\\Documents\\\\Modelos Personalizados do Office\\\\Rafael Nery - Fundamentos de Big Data e Data Analytics com Python\\\\003 - Arquivos\\\\'\n",
    "file = 'eixos.xlsx'\n",
    "\n",
    "df = pd.read_excel(path +file)\n",
    "df.info()"
   ]
  },
  {
   "cell_type": "code",
   "execution_count": 14,
   "metadata": {},
   "outputs": [
    {
     "data": {
      "text/plain": [
       "<seaborn.axisgrid.FacetGrid at 0x1ae0026e2d0>"
      ]
     },
     "execution_count": 14,
     "metadata": {},
     "output_type": "execute_result"
    },
    {
     "data": {
      "image/png": "[encoded data removed]",
      "text/plain": [
       "<Figure size 500x500 with 1 Axes>"
      ]
     },
     "metadata": {},
     "output_type": "display_data"
    }
   ],
   "source": [
    "# Data Frame Fornecedor 01\n",
    "fornecedor_1 = df[df['fornecedor']==1]\n",
    "sns.displot(x=fornecedor_1['diametro'])"
   ]
  }
 ],
 "metadata": {
  "kernelspec": {
   "display_name": "base",
   "language": "python",
   "name": "python3"
  },
  "language_info": {
   "codemirror_mode": {
    "name": "ipython",
    "version": 3
   },
   "file_extension": ".py",
   "mimetype": "text/x-python",
   "name": "python",
   "nbconvert_exporter": "python",
   "pygments_lexer": "ipython3",
   "version": "3.11.3"
  },
  "orig_nbformat": 4
 },
 "nbformat": 4,
 "nbformat_minor": 2
}
