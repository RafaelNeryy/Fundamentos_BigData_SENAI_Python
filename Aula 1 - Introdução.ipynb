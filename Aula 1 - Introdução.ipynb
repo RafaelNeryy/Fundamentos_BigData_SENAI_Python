{
 "cells": [
  {
   "cell_type": "markdown",
   "id": "9d75f547",
   "metadata": {},
   "source": [
    "# Primeira aula de Python no SENAI\n",
    "\n",
    "Estou DESESPERADO"
   ]
  },
  {
   "cell_type": "code",
   "execution_count": null,
   "id": "30e068f7",
   "metadata": {},
   "outputs": [],
   "source": [
    "print('Hello, World!')"
   ]
  },
  {
   "cell_type": "markdown",
   "id": "44ccb685",
   "metadata": {},
   "source": [
    "## Declarando Variáveis "
   ]
  },
  {
   "cell_type": "code",
   "execution_count": 3,
   "id": "7d9fcec1",
   "metadata": {},
   "outputs": [],
   "source": [
    "A=10\n",
    "B='Rafael'\n",
    "C=0.5\n",
    "D=['Abelha','Beterraba','Churrasco']"
   ]
  },
  {
   "cell_type": "code",
   "execution_count": 4,
   "id": "fbc8cae7",
   "metadata": {},
   "outputs": [
    {
     "data": {
      "text/plain": [
       "list"
      ]
     },
     "execution_count": 4,
     "metadata": {},
     "output_type": "execute_result"
    }
   ],
   "source": [
    "type(D)"
   ]
  },
  {
   "cell_type": "markdown",
   "id": "03322d8e",
   "metadata": {},
   "source": [
    "### Exercício 01\n",
    "Crie um programa para receber dois valores e em seguida, exiba o valor\n",
    "da soma."
   ]
  },
  {
   "cell_type": "code",
   "execution_count": 5,
   "id": "01acbf7e",
   "metadata": {},
   "outputs": [],
   "source": [
    "num1 = 10\n",
    "num2 = 5\n",
    "\n",
    "soma = num1 + num2"
   ]
  },
  {
   "cell_type": "code",
   "execution_count": 6,
   "id": "c088a661",
   "metadata": {},
   "outputs": [
    {
     "name": "stdout",
     "output_type": "stream",
     "text": [
      "15\n"
     ]
    }
   ],
   "source": [
    "print(soma)"
   ]
  },
  {
   "cell_type": "markdown",
   "id": "492fdde6",
   "metadata": {},
   "source": [
    "### Exercício 02\n",
    "Crie um programa para receber dois valores e em seguida, exiba o valor\n",
    "da diferença entre eles."
   ]
  },
  {
   "cell_type": "code",
   "execution_count": 19,
   "id": "6de04ecd",
   "metadata": {},
   "outputs": [
    {
     "name": "stdout",
     "output_type": "stream",
     "text": [
      "-2\n"
     ]
    }
   ],
   "source": [
    "num1 = 8\n",
    "num2 = 10\n",
    "sub = num1 - num2\n",
    "print(sub)"
   ]
  },
  {
   "cell_type": "markdown",
   "id": "e36bf6c9",
   "metadata": {},
   "source": [
    "### Exercício 03\n",
    "Crie um programa para receber dois valores e em seguida, exiba o\n",
    "produto entre eles."
   ]
  },
  {
   "cell_type": "code",
   "execution_count": 9,
   "id": "7002572d",
   "metadata": {},
   "outputs": [
    {
     "name": "stdout",
     "output_type": "stream",
     "text": [
      "50\n"
     ]
    }
   ],
   "source": [
    "num1 = 10\n",
    "num = 5\n",
    "mult = num1 * num2\n",
    "print(mult)"
   ]
  },
  {
   "cell_type": "markdown",
   "id": "d9ad5c3d",
   "metadata": {},
   "source": [
    "### Exercício 04\n",
    "Crie um programa para receber dois valores e em seguida, exiba o\n",
    "quociente entre eles."
   ]
  },
  {
   "cell_type": "code",
   "execution_count": 12,
   "id": "d0f9250d",
   "metadata": {},
   "outputs": [
    {
     "name": "stdout",
     "output_type": "stream",
     "text": [
      "2.0\n"
     ]
    }
   ],
   "source": [
    "num1 = 10\n",
    "num2 = 5\n",
    "divisão = num1 / num2\n",
    "print(divisão)"
   ]
  },
  {
   "cell_type": "markdown",
   "id": "08b51889",
   "metadata": {},
   "source": [
    "### Exercício 05\n",
    "Crie um programa para receber dois valores e em seguida, exiba o resto\n",
    "da divisão entre eles."
   ]
  },
  {
   "cell_type": "code",
   "execution_count": 20,
   "id": "7911eedd",
   "metadata": {},
   "outputs": [
    {
     "name": "stdout",
     "output_type": "stream",
     "text": [
      "0\n"
     ]
    }
   ],
   "source": [
    "num1 = 10\n",
    "num2 = 5\n",
    "resto = num1 % num2\n",
    "\n",
    "print(resto)"
   ]
  },
  {
   "cell_type": "markdown",
   "id": "52c0b9e6",
   "metadata": {},
   "source": [
    "### Exercício 06\n",
    "Crie um programa para receber um número e em seguida, exiba o\n",
    "quadrado dele."
   ]
  },
  {
   "cell_type": "code",
   "execution_count": 18,
   "id": "2d055da1",
   "metadata": {},
   "outputs": [
    {
     "name": "stdout",
     "output_type": "stream",
     "text": [
      "100\n"
     ]
    }
   ],
   "source": [
    "num1 = 10\n",
    "quadrado = num1 ** 2\n",
    "print(quadrado)"
   ]
  },
  {
   "cell_type": "markdown",
   "id": "ad15ef55",
   "metadata": {},
   "source": [
    "### Exercício 07\n",
    "Elabora um programa para calcular a raiz quadrada de um número,\n",
    "utilizando a biblioteca math."
   ]
  },
  {
   "cell_type": "code",
   "execution_count": null,
   "id": "d7393af1",
   "metadata": {},
   "outputs": [],
   "source": []
  },
  {
   "cell_type": "markdown",
   "id": "55423cfe",
   "metadata": {},
   "source": [
    "### Exercício 08\n",
    "Crie um programa que seja capaz de calcular o valor absoluto de um\n",
    "número."
   ]
  },
  {
   "cell_type": "code",
   "execution_count": null,
   "id": "861fa3fd",
   "metadata": {},
   "outputs": [],
   "source": []
  },
  {
   "cell_type": "markdown",
   "id": "6455fbae",
   "metadata": {},
   "source": [
    "### Exercício 09\n",
    "Atribua os seguintes valores às variáveis, um a um:\n",
    "\n",
    "a. 347\n",
    "\n",
    "b. 2.71\n",
    "\n",
    "c. “347”\n",
    "\n",
    "d. 2+3j\n",
    "\n",
    "Responda as questões a seguir:\n",
    "1) Quais são os tipos das variáveis acima?\n",
    "2) Faça uma atribuição múltipla das variáveis do exercício 2."
   ]
  },
  {
   "cell_type": "code",
   "execution_count": null,
   "id": "3aab8e8e",
   "metadata": {},
   "outputs": [],
   "source": []
  },
  {
   "cell_type": "markdown",
   "id": "620c06b9",
   "metadata": {},
   "source": [
    "### Exercício 10\n",
    "Faça um Programa que converta metros para centímetros."
   ]
  },
  {
   "cell_type": "code",
   "execution_count": 26,
   "id": "157ded7d",
   "metadata": {},
   "outputs": [
    {
     "name": "stdout",
     "output_type": "stream",
     "text": [
      "100\n"
     ]
    }
   ],
   "source": [
    "#Receber o valor em metros\n",
    "metros = 1\n",
    "\n",
    "#Pegar o valor em metros e multiplicar por 100\n",
    "cent = metros * 100\n",
    "\n",
    "#Exibir resultado\n",
    "print(cent)"
   ]
  },
  {
   "cell_type": "markdown",
   "id": "75cda9a6",
   "metadata": {},
   "source": [
    "### Exercício 11\n",
    "Faça um Programa que peça o raio de um círculo, calcule e mostre sua\n",
    "área."
   ]
  },
  {
   "cell_type": "code",
   "execution_count": 27,
   "id": "f9d7ebd5",
   "metadata": {},
   "outputs": [
    {
     "name": "stdout",
     "output_type": "stream",
     "text": [
      "1256.0\n"
     ]
    }
   ],
   "source": [
    "#Receber o valor\n",
    "raio = 20\n",
    "\n",
    "#Calcular a área do circulo\n",
    "area_circulo = 3.14*raio**2\n",
    "\n",
    "#Exibir área do circulo\n",
    "print(area_circulo)"
   ]
  },
  {
   "cell_type": "markdown",
   "id": "ee336478",
   "metadata": {},
   "source": [
    "### Exercício 12\n",
    "Faça um Programa que calcule a área de um quadrado, em seguida\n",
    "mostre o dobro desta área para o usuário."
   ]
  },
  {
   "cell_type": "code",
   "execution_count": 32,
   "id": "487edf72",
   "metadata": {},
   "outputs": [
    {
     "name": "stdout",
     "output_type": "stream",
     "text": [
      "A área do quadrado é:  100\n",
      "O dobro desta área é:  200\n"
     ]
    }
   ],
   "source": [
    "# Receber o lado do quadrado\n",
    "lado = 10\n",
    "\n",
    "#Calcular a área do quadrado\n",
    "area_quadrado = lado ** 2\n",
    "\n",
    "# Calcular o dobro da área\n",
    "area_dobro = area_quadrado * 2\n",
    "\n",
    "# Exibir o resultado da área\n",
    "print('A área do quadrado é: ', area_quadrado)\n",
    "print('O dobro desta área é: ', area_dobro)"
   ]
  },
  {
   "cell_type": "markdown",
   "id": "2fdf929a",
   "metadata": {},
   "source": [
    "### Exercício 13\n",
    "Faça um Programa que pergunte quanto você ganha por hora e o número\n",
    "de horas trabalhadas no mês. Calcule e mostre o total do seu salário no referido mês."
   ]
  },
  {
   "cell_type": "code",
   "execution_count": 1,
   "id": "f98d131b",
   "metadata": {},
   "outputs": [
    {
     "name": "stdout",
     "output_type": "stream",
     "text": [
      "Informe o quanto você recebe por hora: 56\n"
     ]
    },
    {
     "data": {
      "text/plain": [
       "int"
      ]
     },
     "execution_count": 1,
     "metadata": {},
     "output_type": "execute_result"
    }
   ],
   "source": [
    "# Solicitar um valor ao usuário\n",
    "valor_hora = input('Informe o quanto você recebe por hora: ')\n",
    "valor_hora = int(valor_hora)\n",
    "\n",
    "type(valor_hora)"
   ]
  },
  {
   "cell_type": "code",
   "execution_count": null,
   "id": "070a9043",
   "metadata": {},
   "outputs": [],
   "source": []
  }
 ],
 "metadata": {
  "kernelspec": {
   "display_name": "Python 3 (ipykernel)",
   "language": "python",
   "name": "python3"
  },
  "language_info": {
   "codemirror_mode": {
    "name": "ipython",
    "version": 3
   },
   "file_extension": ".py",
   "mimetype": "text/x-python",
   "name": "python",
   "nbconvert_exporter": "python",
   "pygments_lexer": "ipython3",
   "version": "3.11.3"
  }
 },
 "nbformat": 4,
 "nbformat_minor": 5
}
