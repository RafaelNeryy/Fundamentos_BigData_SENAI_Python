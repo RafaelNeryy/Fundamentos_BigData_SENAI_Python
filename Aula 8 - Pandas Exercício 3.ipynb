{
 "cells": [
  {
   "cell_type": "markdown",
   "metadata": {},
   "source": [
    "# LISTA DE EXERCÍCIO 05 – MANIPULANDO DADOS COM PANDAS (PARTE 1) \n",
    "\n",
    "### Exercício 03 – Manipulando dados com Pandas\n",
    "\n",
    "a) Crie um programa em pandas para ler o arquivo em Excel vendas.xlsx e\n",
    "\n",
    "b) coloque em um dataframe.\n",
    "\n",
    "c) Visualize o cabeçalho dos dados;"
   ]
  },
  {
   "cell_type": "code",
   "execution_count": 1,
   "metadata": {},
   "outputs": [
    {
     "data": {
      "text/html": [
       "<div>\n",
       "<style scoped>\n",
       "    .dataframe tbody tr th:only-of-type {\n",
       "        vertical-align: middle;\n",
       "    }\n",
       "\n",
       "    .dataframe tbody tr th {\n",
       "        vertical-align: top;\n",
       "    }\n",
       "\n",
       "    .dataframe thead th {\n",
       "        text-align: right;\n",
       "    }\n",
       "</style>\n",
       "<table border=\"1\" class=\"dataframe\">\n",
       "  <thead>\n",
       "    <tr style=\"text-align: right;\">\n",
       "      <th></th>\n",
       "      <th>Coluna 1</th>\n",
       "      <th>Coluna 2</th>\n",
       "      <th>Coluna 3</th>\n",
       "      <th>Coluna 4</th>\n",
       "      <th>Coluna 5</th>\n",
       "      <th>Coluna 6</th>\n",
       "    </tr>\n",
       "  </thead>\n",
       "  <tbody>\n",
       "    <tr>\n",
       "      <th>0</th>\n",
       "      <td>2014-01-01</td>\n",
       "      <td>Bernardo de Sousa</td>\n",
       "      <td>Supervisor de Vendas Pl</td>\n",
       "      <td>ACME</td>\n",
       "      <td>AL</td>\n",
       "      <td>3276.20</td>\n",
       "    </tr>\n",
       "    <tr>\n",
       "      <th>1</th>\n",
       "      <td>2014-01-01</td>\n",
       "      <td>Bernardo de Sousa</td>\n",
       "      <td>Supervisor de Vendas Pl</td>\n",
       "      <td>ACME</td>\n",
       "      <td>AP</td>\n",
       "      <td>3005.86</td>\n",
       "    </tr>\n",
       "    <tr>\n",
       "      <th>2</th>\n",
       "      <td>2014-01-01</td>\n",
       "      <td>Bernardo de Sousa</td>\n",
       "      <td>Supervisor de Vendas Pl</td>\n",
       "      <td>ACME</td>\n",
       "      <td>MA</td>\n",
       "      <td>8568.54</td>\n",
       "    </tr>\n",
       "    <tr>\n",
       "      <th>3</th>\n",
       "      <td>2014-01-01</td>\n",
       "      <td>Bernardo de Sousa</td>\n",
       "      <td>Supervisor de Vendas Pl</td>\n",
       "      <td>ACME</td>\n",
       "      <td>MG</td>\n",
       "      <td>1344.27</td>\n",
       "    </tr>\n",
       "    <tr>\n",
       "      <th>4</th>\n",
       "      <td>2014-01-01</td>\n",
       "      <td>Bernardo de Sousa</td>\n",
       "      <td>Supervisor de Vendas Pl</td>\n",
       "      <td>ACME</td>\n",
       "      <td>MS</td>\n",
       "      <td>7585.04</td>\n",
       "    </tr>\n",
       "  </tbody>\n",
       "</table>\n",
       "</div>"
      ],
      "text/plain": [
       "    Coluna 1           Coluna 2                 Coluna 3 Coluna 4 Coluna 5  \\\n",
       "0 2014-01-01  Bernardo de Sousa  Supervisor de Vendas Pl     ACME       AL   \n",
       "1 2014-01-01  Bernardo de Sousa  Supervisor de Vendas Pl     ACME       AP   \n",
       "2 2014-01-01  Bernardo de Sousa  Supervisor de Vendas Pl     ACME       MA   \n",
       "3 2014-01-01  Bernardo de Sousa  Supervisor de Vendas Pl     ACME       MG   \n",
       "4 2014-01-01  Bernardo de Sousa  Supervisor de Vendas Pl     ACME       MS   \n",
       "\n",
       "   Coluna 6  \n",
       "0   3276.20  \n",
       "1   3005.86  \n",
       "2   8568.54  \n",
       "3   1344.27  \n",
       "4   7585.04  "
      ]
     },
     "execution_count": 1,
     "metadata": {},
     "output_type": "execute_result"
    }
   ],
   "source": [
    "# Importar biblioteca \n",
    "import pandas as pd\n",
    "\n",
    "# Mapear diretório e arquivo\n",
    "caminho = 'C:\\\\Users\\\\Administrador\\\\Documents\\\\Modelos Personalizados do Office\\\\Rafael Nery - Fundamentos de Big Data e Data Analytics com Python\\\\003 - Arquivos\\\\'\n",
    "arquivo = 'Vendas.xlsx'\n",
    "\n",
    "# Atribuir os dados no Data Frame\n",
    "df = pd.read_excel(caminho + arquivo, sheet_name= 'Planilha1')\n",
    "\n",
    "#Visualizar os cabeçalhos\n",
    "df.head()"
   ]
  },
  {
   "cell_type": "markdown",
   "metadata": {},
   "source": [
    "d) Visualize as últimas linhas;"
   ]
  },
  {
   "cell_type": "code",
   "execution_count": 2,
   "metadata": {},
   "outputs": [
    {
     "data": {
      "text/html": [
       "<div>\n",
       "<style scoped>\n",
       "    .dataframe tbody tr th:only-of-type {\n",
       "        vertical-align: middle;\n",
       "    }\n",
       "\n",
       "    .dataframe tbody tr th {\n",
       "        vertical-align: top;\n",
       "    }\n",
       "\n",
       "    .dataframe thead th {\n",
       "        text-align: right;\n",
       "    }\n",
       "</style>\n",
       "<table border=\"1\" class=\"dataframe\">\n",
       "  <thead>\n",
       "    <tr style=\"text-align: right;\">\n",
       "      <th></th>\n",
       "      <th>Coluna 1</th>\n",
       "      <th>Coluna 2</th>\n",
       "      <th>Coluna 3</th>\n",
       "      <th>Coluna 4</th>\n",
       "      <th>Coluna 5</th>\n",
       "      <th>Coluna 6</th>\n",
       "    </tr>\n",
       "  </thead>\n",
       "  <tbody>\n",
       "    <tr>\n",
       "      <th>130461</th>\n",
       "      <td>2016-12-31</td>\n",
       "      <td>Liz Azevedo Santos</td>\n",
       "      <td>Vendedor Pl.</td>\n",
       "      <td>Planet Express</td>\n",
       "      <td>PI</td>\n",
       "      <td>1829.39</td>\n",
       "    </tr>\n",
       "    <tr>\n",
       "      <th>130462</th>\n",
       "      <td>2016-12-31</td>\n",
       "      <td>Liz Azevedo Santos</td>\n",
       "      <td>Vendedor Pl.</td>\n",
       "      <td>Planet Express</td>\n",
       "      <td>PR</td>\n",
       "      <td>2378.48</td>\n",
       "    </tr>\n",
       "    <tr>\n",
       "      <th>130463</th>\n",
       "      <td>2016-12-31</td>\n",
       "      <td>Liz Azevedo Santos</td>\n",
       "      <td>Vendedor Pl.</td>\n",
       "      <td>Planet Express</td>\n",
       "      <td>RO</td>\n",
       "      <td>4488.47</td>\n",
       "    </tr>\n",
       "    <tr>\n",
       "      <th>130464</th>\n",
       "      <td>2016-12-31</td>\n",
       "      <td>Liz Azevedo Santos</td>\n",
       "      <td>Vendedor Pl.</td>\n",
       "      <td>Planet Express</td>\n",
       "      <td>RR</td>\n",
       "      <td>1543.66</td>\n",
       "    </tr>\n",
       "    <tr>\n",
       "      <th>130465</th>\n",
       "      <td>2016-12-31</td>\n",
       "      <td>Liz Azevedo Santos</td>\n",
       "      <td>Vendedor Pl.</td>\n",
       "      <td>Planet Express</td>\n",
       "      <td>SC</td>\n",
       "      <td>9820.71</td>\n",
       "    </tr>\n",
       "  </tbody>\n",
       "</table>\n",
       "</div>"
      ],
      "text/plain": [
       "         Coluna 1            Coluna 2      Coluna 3        Coluna 4 Coluna 5  \\\n",
       "130461 2016-12-31  Liz Azevedo Santos  Vendedor Pl.  Planet Express       PI   \n",
       "130462 2016-12-31  Liz Azevedo Santos  Vendedor Pl.  Planet Express       PR   \n",
       "130463 2016-12-31  Liz Azevedo Santos  Vendedor Pl.  Planet Express       RO   \n",
       "130464 2016-12-31  Liz Azevedo Santos  Vendedor Pl.  Planet Express       RR   \n",
       "130465 2016-12-31  Liz Azevedo Santos  Vendedor Pl.  Planet Express       SC   \n",
       "\n",
       "        Coluna 6  \n",
       "130461   1829.39  \n",
       "130462   2378.48  \n",
       "130463   4488.47  \n",
       "130464   1543.66  \n",
       "130465   9820.71  "
      ]
     },
     "execution_count": 2,
     "metadata": {},
     "output_type": "execute_result"
    }
   ],
   "source": [
    "df.tail()"
   ]
  },
  {
   "cell_type": "markdown",
   "metadata": {},
   "source": [
    "e) Escreva um programa para renomear o cabeçalho da tabela com os seguintes nomes:"
   ]
  },
  {
   "cell_type": "code",
   "execution_count": 3,
   "metadata": {},
   "outputs": [
    {
     "data": {
      "text/html": [
       "<div>\n",
       "<style scoped>\n",
       "    .dataframe tbody tr th:only-of-type {\n",
       "        vertical-align: middle;\n",
       "    }\n",
       "\n",
       "    .dataframe tbody tr th {\n",
       "        vertical-align: top;\n",
       "    }\n",
       "\n",
       "    .dataframe thead th {\n",
       "        text-align: right;\n",
       "    }\n",
       "</style>\n",
       "<table border=\"1\" class=\"dataframe\">\n",
       "  <thead>\n",
       "    <tr style=\"text-align: right;\">\n",
       "      <th></th>\n",
       "      <th>Data</th>\n",
       "      <th>Vendedor</th>\n",
       "      <th>Cargo</th>\n",
       "      <th>Clientela</th>\n",
       "      <th>UF</th>\n",
       "      <th>Vendas</th>\n",
       "    </tr>\n",
       "  </thead>\n",
       "  <tbody>\n",
       "    <tr>\n",
       "      <th>0</th>\n",
       "      <td>2014-01-01</td>\n",
       "      <td>Bernardo de Sousa</td>\n",
       "      <td>Supervisor de Vendas Pl</td>\n",
       "      <td>ACME</td>\n",
       "      <td>AL</td>\n",
       "      <td>3276.20</td>\n",
       "    </tr>\n",
       "    <tr>\n",
       "      <th>1</th>\n",
       "      <td>2014-01-01</td>\n",
       "      <td>Bernardo de Sousa</td>\n",
       "      <td>Supervisor de Vendas Pl</td>\n",
       "      <td>ACME</td>\n",
       "      <td>AP</td>\n",
       "      <td>3005.86</td>\n",
       "    </tr>\n",
       "    <tr>\n",
       "      <th>2</th>\n",
       "      <td>2014-01-01</td>\n",
       "      <td>Bernardo de Sousa</td>\n",
       "      <td>Supervisor de Vendas Pl</td>\n",
       "      <td>ACME</td>\n",
       "      <td>MA</td>\n",
       "      <td>8568.54</td>\n",
       "    </tr>\n",
       "    <tr>\n",
       "      <th>3</th>\n",
       "      <td>2014-01-01</td>\n",
       "      <td>Bernardo de Sousa</td>\n",
       "      <td>Supervisor de Vendas Pl</td>\n",
       "      <td>ACME</td>\n",
       "      <td>MG</td>\n",
       "      <td>1344.27</td>\n",
       "    </tr>\n",
       "    <tr>\n",
       "      <th>4</th>\n",
       "      <td>2014-01-01</td>\n",
       "      <td>Bernardo de Sousa</td>\n",
       "      <td>Supervisor de Vendas Pl</td>\n",
       "      <td>ACME</td>\n",
       "      <td>MS</td>\n",
       "      <td>7585.04</td>\n",
       "    </tr>\n",
       "  </tbody>\n",
       "</table>\n",
       "</div>"
      ],
      "text/plain": [
       "        Data           Vendedor                    Cargo Clientela  UF  \\\n",
       "0 2014-01-01  Bernardo de Sousa  Supervisor de Vendas Pl      ACME  AL   \n",
       "1 2014-01-01  Bernardo de Sousa  Supervisor de Vendas Pl      ACME  AP   \n",
       "2 2014-01-01  Bernardo de Sousa  Supervisor de Vendas Pl      ACME  MA   \n",
       "3 2014-01-01  Bernardo de Sousa  Supervisor de Vendas Pl      ACME  MG   \n",
       "4 2014-01-01  Bernardo de Sousa  Supervisor de Vendas Pl      ACME  MS   \n",
       "\n",
       "    Vendas  \n",
       "0  3276.20  \n",
       "1  3005.86  \n",
       "2  8568.54  \n",
       "3  1344.27  \n",
       "4  7585.04  "
      ]
     },
     "execution_count": 3,
     "metadata": {},
     "output_type": "execute_result"
    }
   ],
   "source": [
    "df.columns = ['Data','Vendedor','Cargo','Clientela','UF','Vendas']\n",
    "\n",
    "# Outro forma -> df.rename(Columns={'Coluna 1':'Data','Coluna 2':'Vendedor','...})\n",
    "\n",
    "df.head()"
   ]
  },
  {
   "cell_type": "code",
   "execution_count": 4,
   "metadata": {},
   "outputs": [
    {
     "data": {
      "text/html": [
       "<div>\n",
       "<style scoped>\n",
       "    .dataframe tbody tr th:only-of-type {\n",
       "        vertical-align: middle;\n",
       "    }\n",
       "\n",
       "    .dataframe tbody tr th {\n",
       "        vertical-align: top;\n",
       "    }\n",
       "\n",
       "    .dataframe thead th {\n",
       "        text-align: right;\n",
       "    }\n",
       "</style>\n",
       "<table border=\"1\" class=\"dataframe\">\n",
       "  <thead>\n",
       "    <tr style=\"text-align: right;\">\n",
       "      <th></th>\n",
       "      <th>Data</th>\n",
       "      <th>Vendedor</th>\n",
       "      <th>Cargo</th>\n",
       "      <th>Cliente</th>\n",
       "      <th>UF</th>\n",
       "      <th>Vendas</th>\n",
       "    </tr>\n",
       "  </thead>\n",
       "  <tbody>\n",
       "    <tr>\n",
       "      <th>0</th>\n",
       "      <td>2014-01-01</td>\n",
       "      <td>Bernardo de Sousa</td>\n",
       "      <td>Supervisor de Vendas Pl</td>\n",
       "      <td>ACME</td>\n",
       "      <td>AL</td>\n",
       "      <td>3276.20</td>\n",
       "    </tr>\n",
       "    <tr>\n",
       "      <th>1</th>\n",
       "      <td>2014-01-01</td>\n",
       "      <td>Bernardo de Sousa</td>\n",
       "      <td>Supervisor de Vendas Pl</td>\n",
       "      <td>ACME</td>\n",
       "      <td>AP</td>\n",
       "      <td>3005.86</td>\n",
       "    </tr>\n",
       "    <tr>\n",
       "      <th>2</th>\n",
       "      <td>2014-01-01</td>\n",
       "      <td>Bernardo de Sousa</td>\n",
       "      <td>Supervisor de Vendas Pl</td>\n",
       "      <td>ACME</td>\n",
       "      <td>MA</td>\n",
       "      <td>8568.54</td>\n",
       "    </tr>\n",
       "    <tr>\n",
       "      <th>3</th>\n",
       "      <td>2014-01-01</td>\n",
       "      <td>Bernardo de Sousa</td>\n",
       "      <td>Supervisor de Vendas Pl</td>\n",
       "      <td>ACME</td>\n",
       "      <td>MG</td>\n",
       "      <td>1344.27</td>\n",
       "    </tr>\n",
       "    <tr>\n",
       "      <th>4</th>\n",
       "      <td>2014-01-01</td>\n",
       "      <td>Bernardo de Sousa</td>\n",
       "      <td>Supervisor de Vendas Pl</td>\n",
       "      <td>ACME</td>\n",
       "      <td>MS</td>\n",
       "      <td>7585.04</td>\n",
       "    </tr>\n",
       "    <tr>\n",
       "      <th>...</th>\n",
       "      <td>...</td>\n",
       "      <td>...</td>\n",
       "      <td>...</td>\n",
       "      <td>...</td>\n",
       "      <td>...</td>\n",
       "      <td>...</td>\n",
       "    </tr>\n",
       "    <tr>\n",
       "      <th>130461</th>\n",
       "      <td>2016-12-31</td>\n",
       "      <td>Liz Azevedo Santos</td>\n",
       "      <td>Vendedor Pl.</td>\n",
       "      <td>Planet Express</td>\n",
       "      <td>PI</td>\n",
       "      <td>1829.39</td>\n",
       "    </tr>\n",
       "    <tr>\n",
       "      <th>130462</th>\n",
       "      <td>2016-12-31</td>\n",
       "      <td>Liz Azevedo Santos</td>\n",
       "      <td>Vendedor Pl.</td>\n",
       "      <td>Planet Express</td>\n",
       "      <td>PR</td>\n",
       "      <td>2378.48</td>\n",
       "    </tr>\n",
       "    <tr>\n",
       "      <th>130463</th>\n",
       "      <td>2016-12-31</td>\n",
       "      <td>Liz Azevedo Santos</td>\n",
       "      <td>Vendedor Pl.</td>\n",
       "      <td>Planet Express</td>\n",
       "      <td>RO</td>\n",
       "      <td>4488.47</td>\n",
       "    </tr>\n",
       "    <tr>\n",
       "      <th>130464</th>\n",
       "      <td>2016-12-31</td>\n",
       "      <td>Liz Azevedo Santos</td>\n",
       "      <td>Vendedor Pl.</td>\n",
       "      <td>Planet Express</td>\n",
       "      <td>RR</td>\n",
       "      <td>1543.66</td>\n",
       "    </tr>\n",
       "    <tr>\n",
       "      <th>130465</th>\n",
       "      <td>2016-12-31</td>\n",
       "      <td>Liz Azevedo Santos</td>\n",
       "      <td>Vendedor Pl.</td>\n",
       "      <td>Planet Express</td>\n",
       "      <td>SC</td>\n",
       "      <td>9820.71</td>\n",
       "    </tr>\n",
       "  </tbody>\n",
       "</table>\n",
       "<p>130466 rows × 6 columns</p>\n",
       "</div>"
      ],
      "text/plain": [
       "             Data            Vendedor                    Cargo  \\\n",
       "0      2014-01-01   Bernardo de Sousa  Supervisor de Vendas Pl   \n",
       "1      2014-01-01   Bernardo de Sousa  Supervisor de Vendas Pl   \n",
       "2      2014-01-01   Bernardo de Sousa  Supervisor de Vendas Pl   \n",
       "3      2014-01-01   Bernardo de Sousa  Supervisor de Vendas Pl   \n",
       "4      2014-01-01   Bernardo de Sousa  Supervisor de Vendas Pl   \n",
       "...           ...                 ...                      ...   \n",
       "130461 2016-12-31  Liz Azevedo Santos             Vendedor Pl.   \n",
       "130462 2016-12-31  Liz Azevedo Santos             Vendedor Pl.   \n",
       "130463 2016-12-31  Liz Azevedo Santos             Vendedor Pl.   \n",
       "130464 2016-12-31  Liz Azevedo Santos             Vendedor Pl.   \n",
       "130465 2016-12-31  Liz Azevedo Santos             Vendedor Pl.   \n",
       "\n",
       "               Cliente  UF   Vendas  \n",
       "0                 ACME  AL  3276.20  \n",
       "1                 ACME  AP  3005.86  \n",
       "2                 ACME  MA  8568.54  \n",
       "3                 ACME  MG  1344.27  \n",
       "4                 ACME  MS  7585.04  \n",
       "...                ...  ..      ...  \n",
       "130461  Planet Express  PI  1829.39  \n",
       "130462  Planet Express  PR  2378.48  \n",
       "130463  Planet Express  RO  4488.47  \n",
       "130464  Planet Express  RR  1543.66  \n",
       "130465  Planet Express  SC  9820.71  \n",
       "\n",
       "[130466 rows x 6 columns]"
      ]
     },
     "execution_count": 4,
     "metadata": {},
     "output_type": "execute_result"
    }
   ],
   "source": [
    "df.rename(columns={'Clientela':'Cliente'})"
   ]
  },
  {
   "cell_type": "markdown",
   "metadata": {},
   "source": [
    "g) Quais são os tipos de dados que temos no dataframe?\n",
    "\n",
    "h) Há valores faltantes ou nulos?"
   ]
  },
  {
   "cell_type": "code",
   "execution_count": 5,
   "metadata": {},
   "outputs": [
    {
     "name": "stdout",
     "output_type": "stream",
     "text": [
      "<class 'pandas.core.frame.DataFrame'>\n",
      "RangeIndex: 130466 entries, 0 to 130465\n",
      "Data columns (total 6 columns):\n",
      " #   Column     Non-Null Count   Dtype         \n",
      "---  ------     --------------   -----         \n",
      " 0   Data       130466 non-null  datetime64[ns]\n",
      " 1   Vendedor   130466 non-null  object        \n",
      " 2   Cargo      130466 non-null  object        \n",
      " 3   Clientela  130466 non-null  object        \n",
      " 4   UF         130466 non-null  object        \n",
      " 5   Vendas     130466 non-null  float64       \n",
      "dtypes: datetime64[ns](1), float64(1), object(4)\n",
      "memory usage: 6.0+ MB\n",
      " - Não apresenta valores faltantes ou nulos\n"
     ]
    }
   ],
   "source": [
    "df.info()\n",
    "\n",
    "print(' - Não apresenta valores faltantes ou nulos')"
   ]
  },
  {
   "cell_type": "markdown",
   "metadata": {},
   "source": [
    "Obs.: Outra opção para buscas os tipos de dados"
   ]
  },
  {
   "cell_type": "code",
   "execution_count": 6,
   "metadata": {},
   "outputs": [
    {
     "data": {
      "text/plain": [
       "0"
      ]
     },
     "execution_count": 6,
     "metadata": {},
     "output_type": "execute_result"
    }
   ],
   "source": [
    "# Identificar quais registros são nulos\n",
    "df['Vendas'].isnull()\n",
    "\n",
    "# Quantidade de elementos nulos\n",
    "df['Vendas'].isnull().sum()"
   ]
  },
  {
   "cell_type": "markdown",
   "metadata": {},
   "source": [
    "i) Calcule a soma, média, máximo, mínimo e contagem da coluna Preço."
   ]
  },
  {
   "cell_type": "code",
   "execution_count": 7,
   "metadata": {},
   "outputs": [
    {
     "name": "stdout",
     "output_type": "stream",
     "text": [
      "O valor da soma da Coluna Vendas é: R$ 718501609.25\n",
      "O valor da média da Coluna Vendas é: R$ 5507.194282418408\n",
      "O valor máximo da Coluna Vendas é: R$ 10000.0\n",
      "O valor mínimo da Coluna Vendas é: R$ 1000.01\n",
      "O valor da contagem da Coluna Vendas é:  130466\n"
     ]
    }
   ],
   "source": [
    "print('O valor da soma da Coluna Vendas é: R$', df['Vendas'].sum())\n",
    "\n",
    "print('O valor da média da Coluna Vendas é: R$', df['Vendas'].mean())\n",
    "\n",
    "print('O valor máximo da Coluna Vendas é: R$', df['Vendas'].max())\n",
    "\n",
    "print('O valor mínimo da Coluna Vendas é: R$', df['Vendas'].min())\n",
    "\n",
    "print('O valor da contagem da Coluna Vendas é: ', df['Vendas'].count())"
   ]
  },
  {
   "cell_type": "code",
   "execution_count": 8,
   "metadata": {},
   "outputs": [
    {
     "data": {
      "text/html": [
       "<div>\n",
       "<style scoped>\n",
       "    .dataframe tbody tr th:only-of-type {\n",
       "        vertical-align: middle;\n",
       "    }\n",
       "\n",
       "    .dataframe tbody tr th {\n",
       "        vertical-align: top;\n",
       "    }\n",
       "\n",
       "    .dataframe thead th {\n",
       "        text-align: right;\n",
       "    }\n",
       "</style>\n",
       "<table border=\"1\" class=\"dataframe\">\n",
       "  <thead>\n",
       "    <tr style=\"text-align: right;\">\n",
       "      <th></th>\n",
       "      <th>Vendas</th>\n",
       "    </tr>\n",
       "  </thead>\n",
       "  <tbody>\n",
       "    <tr>\n",
       "      <th>count</th>\n",
       "      <td>130466.000000</td>\n",
       "    </tr>\n",
       "    <tr>\n",
       "      <th>mean</th>\n",
       "      <td>5507.194282</td>\n",
       "    </tr>\n",
       "    <tr>\n",
       "      <th>std</th>\n",
       "      <td>2598.113042</td>\n",
       "    </tr>\n",
       "    <tr>\n",
       "      <th>min</th>\n",
       "      <td>1000.010000</td>\n",
       "    </tr>\n",
       "    <tr>\n",
       "      <th>25%</th>\n",
       "      <td>3258.312500</td>\n",
       "    </tr>\n",
       "    <tr>\n",
       "      <th>50%</th>\n",
       "      <td>5509.190000</td>\n",
       "    </tr>\n",
       "    <tr>\n",
       "      <th>75%</th>\n",
       "      <td>7759.095000</td>\n",
       "    </tr>\n",
       "    <tr>\n",
       "      <th>max</th>\n",
       "      <td>10000.000000</td>\n",
       "    </tr>\n",
       "  </tbody>\n",
       "</table>\n",
       "</div>"
      ],
      "text/plain": [
       "              Vendas\n",
       "count  130466.000000\n",
       "mean     5507.194282\n",
       "std      2598.113042\n",
       "min      1000.010000\n",
       "25%      3258.312500\n",
       "50%      5509.190000\n",
       "75%      7759.095000\n",
       "max     10000.000000"
      ]
     },
     "execution_count": 8,
     "metadata": {},
     "output_type": "execute_result"
    }
   ],
   "source": [
    "df.describe()"
   ]
  },
  {
   "cell_type": "markdown",
   "metadata": {},
   "source": [
    "j) Crie um programa para criar um dataframe para mostrar as vendas por cargo, e salvar um arquivo em csv para com o nome de cada cargo:\n",
    "\n",
    "▪ Supervisor de Vendas Pl\n",
    "\n",
    "▪ Gerente Regional Jr.\n",
    "\n",
    "▪ Supervisor de Vendas Sr\n",
    "\n",
    "▪ Coordenador de Vendas Pl.\n",
    "\n",
    "▪ Vendedor Jr.\n",
    "\n",
    "▪ Vendedor Sr.\n",
    "\n",
    "▪ Vendedor Pl.\n",
    "\n",
    "▪ Gerente Regional Pl.\n",
    "\n",
    "▪ Coordenador de Vendas Sr.\n",
    "\n",
    "▪ Coordenador de Vendas Jr.\n",
    "\n",
    "▪ Supervisor de Vendas Jr."
   ]
  },
  {
   "cell_type": "code",
   "execution_count": 14,
   "metadata": {},
   "outputs": [
    {
     "ename": "PermissionError",
     "evalue": "[Errno 13] Permission denied: 'C:\\\\Users\\\\Administrador\\\\Documents\\\\Modelos Personalizados do Office\\\\Rafael Nery - Fundamentos de Big Data e Data Analytics com Python\\\\003 - Arquivos\\\\...Relatórios por Cargos\\\\Supervisor de Vendas Pl.csv'",
     "output_type": "error",
     "traceback": [
      "\u001b[1;31m---------------------------------------------------------------------------\u001b[0m",
      "\u001b[1;31mPermissionError\u001b[0m                           Traceback (most recent call last)",
      "\u001b[1;32mc:\\Users\\Administrador\\Documents\\Modelos Personalizados do Office\\Rafael Nery - Fundamentos de Big Data e Data Analytics com Python\\Visual Studio Code\\Aula 8 - Pandas Exercício 3.ipynb Célula 16\u001b[0m line \u001b[0;36m9\n\u001b[0;32m      <a href='vscode-notebook-cell:/c%3A/Users/Administrador/Documents/Modelos%20Personalizados%20do%20Office/Rafael%20Nery%20-%20Fundamentos%20de%20Big%20Data%20e%20Data%20Analytics%20com%20Python/Visual%20Studio%20Code/Aula%208%20-%20Pandas%20Exerc%C3%ADcio%203.ipynb#X21sZmlsZQ%3D%3D?line=4'>5</a>\u001b[0m caminho \u001b[39m=\u001b[39m \u001b[39m'\u001b[39m\u001b[39mC:\u001b[39m\u001b[39m\\\\\u001b[39;00m\u001b[39mUsers\u001b[39m\u001b[39m\\\\\u001b[39;00m\u001b[39mAdministrador\u001b[39m\u001b[39m\\\\\u001b[39;00m\u001b[39mDocuments\u001b[39m\u001b[39m\\\\\u001b[39;00m\u001b[39mModelos Personalizados do Office\u001b[39m\u001b[39m\\\\\u001b[39;00m\u001b[39mRafael Nery - Fundamentos de Big Data e Data Analytics com Python\u001b[39m\u001b[39m\\\\\u001b[39;00m\u001b[39m003 - Arquivos\u001b[39m\u001b[39m\\\\\u001b[39;00m\u001b[39m...Relatórios por Cargos\u001b[39m\u001b[39m\\\\\u001b[39;00m\u001b[39m'\u001b[39m\n\u001b[0;32m      <a href='vscode-notebook-cell:/c%3A/Users/Administrador/Documents/Modelos%20Personalizados%20do%20Office/Rafael%20Nery%20-%20Fundamentos%20de%20Big%20Data%20e%20Data%20Analytics%20com%20Python/Visual%20Studio%20Code/Aula%208%20-%20Pandas%20Exerc%C3%ADcio%203.ipynb#X21sZmlsZQ%3D%3D?line=6'>7</a>\u001b[0m arquivo \u001b[39m=\u001b[39m \u001b[39m'\u001b[39m\u001b[39mSupervisor de Vendas Pl.csv\u001b[39m\u001b[39m'\u001b[39m\n\u001b[1;32m----> <a href='vscode-notebook-cell:/c%3A/Users/Administrador/Documents/Modelos%20Personalizados%20do%20Office/Rafael%20Nery%20-%20Fundamentos%20de%20Big%20Data%20e%20Data%20Analytics%20com%20Python/Visual%20Studio%20Code/Aula%208%20-%20Pandas%20Exerc%C3%ADcio%203.ipynb#X21sZmlsZQ%3D%3D?line=8'>9</a>\u001b[0m dados\u001b[39m.\u001b[39mto_csv(caminho \u001b[39m+\u001b[39m arquivo)\n",
      "File \u001b[1;32mc:\\ProgramData\\anaconda3\\Lib\\site-packages\\pandas\\util\\_decorators.py:211\u001b[0m, in \u001b[0;36mdeprecate_kwarg.<locals>._deprecate_kwarg.<locals>.wrapper\u001b[1;34m(*args, **kwargs)\u001b[0m\n\u001b[0;32m    209\u001b[0m     \u001b[39melse\u001b[39;00m:\n\u001b[0;32m    210\u001b[0m         kwargs[new_arg_name] \u001b[39m=\u001b[39m new_arg_value\n\u001b[1;32m--> 211\u001b[0m \u001b[39mreturn\u001b[39;00m func(\u001b[39m*\u001b[39margs, \u001b[39m*\u001b[39m\u001b[39m*\u001b[39mkwargs)\n",
      "File \u001b[1;32mc:\\ProgramData\\anaconda3\\Lib\\site-packages\\pandas\\core\\generic.py:3720\u001b[0m, in \u001b[0;36mNDFrame.to_csv\u001b[1;34m(self, path_or_buf, sep, na_rep, float_format, columns, header, index, index_label, mode, encoding, compression, quoting, quotechar, lineterminator, chunksize, date_format, doublequote, escapechar, decimal, errors, storage_options)\u001b[0m\n\u001b[0;32m   3709\u001b[0m df \u001b[39m=\u001b[39m \u001b[39mself\u001b[39m \u001b[39mif\u001b[39;00m \u001b[39misinstance\u001b[39m(\u001b[39mself\u001b[39m, ABCDataFrame) \u001b[39melse\u001b[39;00m \u001b[39mself\u001b[39m\u001b[39m.\u001b[39mto_frame()\n\u001b[0;32m   3711\u001b[0m formatter \u001b[39m=\u001b[39m DataFrameFormatter(\n\u001b[0;32m   3712\u001b[0m     frame\u001b[39m=\u001b[39mdf,\n\u001b[0;32m   3713\u001b[0m     header\u001b[39m=\u001b[39mheader,\n\u001b[1;32m   (...)\u001b[0m\n\u001b[0;32m   3717\u001b[0m     decimal\u001b[39m=\u001b[39mdecimal,\n\u001b[0;32m   3718\u001b[0m )\n\u001b[1;32m-> 3720\u001b[0m \u001b[39mreturn\u001b[39;00m DataFrameRenderer(formatter)\u001b[39m.\u001b[39mto_csv(\n\u001b[0;32m   3721\u001b[0m     path_or_buf,\n\u001b[0;32m   3722\u001b[0m     lineterminator\u001b[39m=\u001b[39mlineterminator,\n\u001b[0;32m   3723\u001b[0m     sep\u001b[39m=\u001b[39msep,\n\u001b[0;32m   3724\u001b[0m     encoding\u001b[39m=\u001b[39mencoding,\n\u001b[0;32m   3725\u001b[0m     errors\u001b[39m=\u001b[39merrors,\n\u001b[0;32m   3726\u001b[0m     compression\u001b[39m=\u001b[39mcompression,\n\u001b[0;32m   3727\u001b[0m     quoting\u001b[39m=\u001b[39mquoting,\n\u001b[0;32m   3728\u001b[0m     columns\u001b[39m=\u001b[39mcolumns,\n\u001b[0;32m   3729\u001b[0m     index_label\u001b[39m=\u001b[39mindex_label,\n\u001b[0;32m   3730\u001b[0m     mode\u001b[39m=\u001b[39mmode,\n\u001b[0;32m   3731\u001b[0m     chunksize\u001b[39m=\u001b[39mchunksize,\n\u001b[0;32m   3732\u001b[0m     quotechar\u001b[39m=\u001b[39mquotechar,\n\u001b[0;32m   3733\u001b[0m     date_format\u001b[39m=\u001b[39mdate_format,\n\u001b[0;32m   3734\u001b[0m     doublequote\u001b[39m=\u001b[39mdoublequote,\n\u001b[0;32m   3735\u001b[0m     escapechar\u001b[39m=\u001b[39mescapechar,\n\u001b[0;32m   3736\u001b[0m     storage_options\u001b[39m=\u001b[39mstorage_options,\n\u001b[0;32m   3737\u001b[0m )\n",
      "File \u001b[1;32mc:\\ProgramData\\anaconda3\\Lib\\site-packages\\pandas\\util\\_decorators.py:211\u001b[0m, in \u001b[0;36mdeprecate_kwarg.<locals>._deprecate_kwarg.<locals>.wrapper\u001b[1;34m(*args, **kwargs)\u001b[0m\n\u001b[0;32m    209\u001b[0m     \u001b[39melse\u001b[39;00m:\n\u001b[0;32m    210\u001b[0m         kwargs[new_arg_name] \u001b[39m=\u001b[39m new_arg_value\n\u001b[1;32m--> 211\u001b[0m \u001b[39mreturn\u001b[39;00m func(\u001b[39m*\u001b[39margs, \u001b[39m*\u001b[39m\u001b[39m*\u001b[39mkwargs)\n",
      "File \u001b[1;32mc:\\ProgramData\\anaconda3\\Lib\\site-packages\\pandas\\io\\formats\\format.py:1189\u001b[0m, in \u001b[0;36mDataFrameRenderer.to_csv\u001b[1;34m(self, path_or_buf, encoding, sep, columns, index_label, mode, compression, quoting, quotechar, lineterminator, chunksize, date_format, doublequote, escapechar, errors, storage_options)\u001b[0m\n\u001b[0;32m   1168\u001b[0m     created_buffer \u001b[39m=\u001b[39m \u001b[39mFalse\u001b[39;00m\n\u001b[0;32m   1170\u001b[0m csv_formatter \u001b[39m=\u001b[39m CSVFormatter(\n\u001b[0;32m   1171\u001b[0m     path_or_buf\u001b[39m=\u001b[39mpath_or_buf,\n\u001b[0;32m   1172\u001b[0m     lineterminator\u001b[39m=\u001b[39mlineterminator,\n\u001b[1;32m   (...)\u001b[0m\n\u001b[0;32m   1187\u001b[0m     formatter\u001b[39m=\u001b[39m\u001b[39mself\u001b[39m\u001b[39m.\u001b[39mfmt,\n\u001b[0;32m   1188\u001b[0m )\n\u001b[1;32m-> 1189\u001b[0m csv_formatter\u001b[39m.\u001b[39msave()\n\u001b[0;32m   1191\u001b[0m \u001b[39mif\u001b[39;00m created_buffer:\n\u001b[0;32m   1192\u001b[0m     \u001b[39massert\u001b[39;00m \u001b[39misinstance\u001b[39m(path_or_buf, StringIO)\n",
      "File \u001b[1;32mc:\\ProgramData\\anaconda3\\Lib\\site-packages\\pandas\\io\\formats\\csvs.py:241\u001b[0m, in \u001b[0;36mCSVFormatter.save\u001b[1;34m(self)\u001b[0m\n\u001b[0;32m    237\u001b[0m \u001b[39m\u001b[39m\u001b[39m\"\"\"\u001b[39;00m\n\u001b[0;32m    238\u001b[0m \u001b[39mCreate the writer & save.\u001b[39;00m\n\u001b[0;32m    239\u001b[0m \u001b[39m\"\"\"\u001b[39;00m\n\u001b[0;32m    240\u001b[0m \u001b[39m# apply compression and byte/text conversion\u001b[39;00m\n\u001b[1;32m--> 241\u001b[0m \u001b[39mwith\u001b[39;00m get_handle(\n\u001b[0;32m    242\u001b[0m     \u001b[39mself\u001b[39m\u001b[39m.\u001b[39mfilepath_or_buffer,\n\u001b[0;32m    243\u001b[0m     \u001b[39mself\u001b[39m\u001b[39m.\u001b[39mmode,\n\u001b[0;32m    244\u001b[0m     encoding\u001b[39m=\u001b[39m\u001b[39mself\u001b[39m\u001b[39m.\u001b[39mencoding,\n\u001b[0;32m    245\u001b[0m     errors\u001b[39m=\u001b[39m\u001b[39mself\u001b[39m\u001b[39m.\u001b[39merrors,\n\u001b[0;32m    246\u001b[0m     compression\u001b[39m=\u001b[39m\u001b[39mself\u001b[39m\u001b[39m.\u001b[39mcompression,\n\u001b[0;32m    247\u001b[0m     storage_options\u001b[39m=\u001b[39m\u001b[39mself\u001b[39m\u001b[39m.\u001b[39mstorage_options,\n\u001b[0;32m    248\u001b[0m ) \u001b[39mas\u001b[39;00m handles:\n\u001b[0;32m    249\u001b[0m \n\u001b[0;32m    250\u001b[0m     \u001b[39m# Note: self.encoding is irrelevant here\u001b[39;00m\n\u001b[0;32m    251\u001b[0m     \u001b[39mself\u001b[39m\u001b[39m.\u001b[39mwriter \u001b[39m=\u001b[39m csvlib\u001b[39m.\u001b[39mwriter(\n\u001b[0;32m    252\u001b[0m         handles\u001b[39m.\u001b[39mhandle,\n\u001b[0;32m    253\u001b[0m         lineterminator\u001b[39m=\u001b[39m\u001b[39mself\u001b[39m\u001b[39m.\u001b[39mlineterminator,\n\u001b[1;32m   (...)\u001b[0m\n\u001b[0;32m    258\u001b[0m         quotechar\u001b[39m=\u001b[39m\u001b[39mself\u001b[39m\u001b[39m.\u001b[39mquotechar,\n\u001b[0;32m    259\u001b[0m     )\n\u001b[0;32m    261\u001b[0m     \u001b[39mself\u001b[39m\u001b[39m.\u001b[39m_save()\n",
      "File \u001b[1;32mc:\\ProgramData\\anaconda3\\Lib\\site-packages\\pandas\\io\\common.py:856\u001b[0m, in \u001b[0;36mget_handle\u001b[1;34m(path_or_buf, mode, encoding, compression, memory_map, is_text, errors, storage_options)\u001b[0m\n\u001b[0;32m    851\u001b[0m \u001b[39melif\u001b[39;00m \u001b[39misinstance\u001b[39m(handle, \u001b[39mstr\u001b[39m):\n\u001b[0;32m    852\u001b[0m     \u001b[39m# Check whether the filename is to be opened in binary mode.\u001b[39;00m\n\u001b[0;32m    853\u001b[0m     \u001b[39m# Binary mode does not support 'encoding' and 'newline'.\u001b[39;00m\n\u001b[0;32m    854\u001b[0m     \u001b[39mif\u001b[39;00m ioargs\u001b[39m.\u001b[39mencoding \u001b[39mand\u001b[39;00m \u001b[39m\"\u001b[39m\u001b[39mb\u001b[39m\u001b[39m\"\u001b[39m \u001b[39mnot\u001b[39;00m \u001b[39min\u001b[39;00m ioargs\u001b[39m.\u001b[39mmode:\n\u001b[0;32m    855\u001b[0m         \u001b[39m# Encoding\u001b[39;00m\n\u001b[1;32m--> 856\u001b[0m         handle \u001b[39m=\u001b[39m \u001b[39mopen\u001b[39m(\n\u001b[0;32m    857\u001b[0m             handle,\n\u001b[0;32m    858\u001b[0m             ioargs\u001b[39m.\u001b[39mmode,\n\u001b[0;32m    859\u001b[0m             encoding\u001b[39m=\u001b[39mioargs\u001b[39m.\u001b[39mencoding,\n\u001b[0;32m    860\u001b[0m             errors\u001b[39m=\u001b[39merrors,\n\u001b[0;32m    861\u001b[0m             newline\u001b[39m=\u001b[39m\u001b[39m\"\u001b[39m\u001b[39m\"\u001b[39m,\n\u001b[0;32m    862\u001b[0m         )\n\u001b[0;32m    863\u001b[0m     \u001b[39melse\u001b[39;00m:\n\u001b[0;32m    864\u001b[0m         \u001b[39m# Binary mode\u001b[39;00m\n\u001b[0;32m    865\u001b[0m         handle \u001b[39m=\u001b[39m \u001b[39mopen\u001b[39m(handle, ioargs\u001b[39m.\u001b[39mmode)\n",
      "\u001b[1;31mPermissionError\u001b[0m: [Errno 13] Permission denied: 'C:\\\\Users\\\\Administrador\\\\Documents\\\\Modelos Personalizados do Office\\\\Rafael Nery - Fundamentos de Big Data e Data Analytics com Python\\\\003 - Arquivos\\\\...Relatórios por Cargos\\\\Supervisor de Vendas Pl.csv'"
     ]
    }
   ],
   "source": [
    "# Filtrar as vendas de acordo com o cargo\n",
    "\n",
    "dados = df[df['Cargo'] == 'Supervisor de Vendas Pl']\n",
    "\n",
    "caminho = 'C:\\\\Users\\\\Administrador\\\\Documents\\\\Modelos Personalizados do Office\\\\Rafael Nery - Fundamentos de Big Data e Data Analytics com Python\\\\003 - Arquivos\\\\...Relatórios por Cargos\\\\'\n",
    "\n",
    "arquivo = 'Supervisor de Vendas Pl.csv'\n",
    "\n",
    "dados.to_csv(caminho + arquivo)"
   ]
  },
  {
   "cell_type": "code",
   "execution_count": 20,
   "metadata": {},
   "outputs": [],
   "source": [
    "# Gerente Regional Jr.\n",
    "\n",
    "dados = df[df['Cargo'] == 'Gerente Regional Jr.']\n",
    "\n",
    "caminho = 'C:\\\\Users\\\\Administrador\\\\Documents\\\\Modelos Personalizados do Office\\\\Rafael Nery - Fundamentos de Big Data e Data Analytics com Python\\\\003 - Arquivos\\\\...Relatórios por Cargos\\\\'\n",
    "\n",
    "arquivo = 'Gerente Regional Jr..csv'\n",
    "\n",
    "dados.to_csv(caminho + arquivo, encoding= 'ANSI')\n"
   ]
  },
  {
   "cell_type": "code",
   "execution_count": null,
   "metadata": {},
   "outputs": [],
   "source": [
    "# Supervisor de Vendas Sr\n",
    "\n",
    "dados2 = df[df['Cargo'] == 'Supervisor de Vendas Sr']\n",
    "\n",
    "caminho2 = 'C:\\\\Users\\\\Administrador\\\\Documents\\\\Modelos Personalizados do Office\\\\Rafael Nery - Fundamentos de Big Data e Data Analytics com Python\\\\003 - Arquivos\\\\...Relatórios por Cargos\\\\'\n",
    "\n",
    "arquivo2 = 'Supervisor de Vendas Sr.csv'\n",
    "\n",
    "dados2.to_csv(caminho2 + arquivo2, encoding= 'ANSI')"
   ]
  },
  {
   "cell_type": "code",
   "execution_count": null,
   "metadata": {},
   "outputs": [],
   "source": [
    "# Coordenador de Vendas Pl.\n",
    "\n",
    "dados3 = df[df['Cargo'] == 'Coordenador de Vendas Pl.']\n",
    "\n",
    "caminho3 = 'C:\\\\Users\\\\Administrador\\\\Documents\\\\Modelos Personalizados do Office\\\\Rafael Nery - Fundamentos de Big Data e Data Analytics com Python\\\\003 - Arquivos\\\\...Relatórios por Cargos\\\\'\n",
    "\n",
    "arquivo3 = 'Coordenador de Vendas Pl..csv'\n",
    "\n",
    "dados3.to_csv(caminho3 + arquivo3, encoding= 'ANSI')"
   ]
  },
  {
   "cell_type": "code",
   "execution_count": null,
   "metadata": {},
   "outputs": [],
   "source": [
    "# Vendedor Jr.\n",
    "\n",
    "dados4 = df[df['Cargo'] == 'Vendedor Jr.']\n",
    "\n",
    "caminho4 = 'C:\\\\Users\\\\Administrador\\\\Documents\\\\Modelos Personalizados do Office\\\\Rafael Nery - Fundamentos de Big Data e Data Analytics com Python\\\\003 - Arquivos\\\\...Relatórios por Cargos\\\\'\n",
    "\n",
    "arquivo4 = 'Vendedor Jr..csv'\n",
    "\n",
    "dados4.to_csv(caminho4 + arquivo4, encoding= 'ANSI')"
   ]
  },
  {
   "cell_type": "code",
   "execution_count": null,
   "metadata": {},
   "outputs": [],
   "source": [
    "# Vendedor Sr.\n",
    "\n",
    "dados5 = df[df['Cargo'] == 'Vendedor Sr.']\n",
    "\n",
    "caminho5 = 'C:\\\\Users\\\\Administrador\\\\Documents\\\\Modelos Personalizados do Office\\\\Rafael Nery - Fundamentos de Big Data e Data Analytics com Python\\\\003 - Arquivos\\\\...Relatórios por Cargos\\\\'\n",
    "\n",
    "arquivo5 = 'Vendedor Sr..csv'\n",
    "\n",
    "dados5.to_csv(caminho5 + arquivo5, encoding= 'ANSI')"
   ]
  },
  {
   "cell_type": "code",
   "execution_count": 21,
   "metadata": {},
   "outputs": [],
   "source": [
    "# Vendedor Pl.\n",
    "\n",
    "dados6 = df[df['Cargo'] == 'Vendedor Pl.']\n",
    "\n",
    "caminho6 = 'C:\\\\Users\\\\Administrador\\\\Documents\\\\Modelos Personalizados do Office\\\\Rafael Nery - Fundamentos de Big Data e Data Analytics com Python\\\\003 - Arquivos\\\\...Relatórios por Cargos\\\\'\n",
    "\n",
    "arquivo6 = 'Vendedor Pl..csv'\n",
    "\n",
    "dados6.to_csv(caminho6+ arquivo6, encoding= 'ANSI')"
   ]
  },
  {
   "cell_type": "code",
   "execution_count": null,
   "metadata": {},
   "outputs": [],
   "source": [
    "# Gerente Regional Pl."
   ]
  },
  {
   "cell_type": "code",
   "execution_count": null,
   "metadata": {},
   "outputs": [],
   "source": [
    "# Coordenador de Vendas Sr."
   ]
  },
  {
   "cell_type": "code",
   "execution_count": null,
   "metadata": {},
   "outputs": [],
   "source": [
    "# Coordenador de Vendas Jr."
   ]
  },
  {
   "cell_type": "code",
   "execution_count": null,
   "metadata": {},
   "outputs": [],
   "source": [
    "# Supervisor de Vendas Jr."
   ]
  },
  {
   "cell_type": "markdown",
   "metadata": {},
   "source": [
    "9. Crie um dataframe para cada coluna, contendo dados únicos."
   ]
  },
  {
   "cell_type": "code",
   "execution_count": 18,
   "metadata": {},
   "outputs": [
    {
     "data": {
      "text/plain": [
       "0        Supervisor de Vendas Pl\n",
       "11          Gerente Regional Jr.\n",
       "37       Supervisor de Vendas Sr\n",
       "48     Coordenador de Vendas Pl.\n",
       "98                  Vendedor Jr.\n",
       "162                 Vendedor Sr.\n",
       "174                 Vendedor Pl.\n",
       "186         Gerente Regional Pl.\n",
       "276    Coordenador de Vendas Sr.\n",
       "285    Coordenador de Vendas Jr.\n",
       "436     Supervisor de Vendas Jr.\n",
       "Name: Cargo, dtype: object"
      ]
     },
     "execution_count": 18,
     "metadata": {},
     "output_type": "execute_result"
    }
   ],
   "source": [
    "# Criar um Data Frame apenas com a Coluna \"Cargo\"\n",
    "dados_cargo = df['Cargo']\n",
    "\n",
    "# Contar quantos elementos existem antes de remover as duplicatas\n",
    "dados_cargo.count()\n",
    "\n",
    "# Criar um novo Data Frame sem duplicatas\n",
    "dados_cargo = dados_cargo.drop_duplicates()\n",
    "\n",
    "# Contas quantos elementos ficaram após a remoção das duplicatas\n",
    "dados_cargo.count()\n",
    "\n",
    "dados_cargo"
   ]
  },
  {
   "cell_type": "markdown",
   "metadata": {},
   "source": []
  }
 ],
 "metadata": {
  "kernelspec": {
   "display_name": "base",
   "language": "python",
   "name": "python3"
  },
  "language_info": {
   "codemirror_mode": {
    "name": "ipython",
    "version": 3
   },
   "file_extension": ".py",
   "mimetype": "text/x-python",
   "name": "python",
   "nbconvert_exporter": "python",
   "pygments_lexer": "ipython3",
   "version": "3.11.3"
  },
  "orig_nbformat": 4
 },
 "nbformat": 4,
 "nbformat_minor": 2
}
